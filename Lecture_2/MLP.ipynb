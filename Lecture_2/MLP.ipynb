{
 "cells": [
  {
   "cell_type": "markdown",
   "id": "0e612435",
   "metadata": {
    "slideshow": {
     "slide_type": "slide"
    }
   },
   "source": [
    "# Artificial Neural Networks 2 - Multi Layer Perceptrons or Feedforward Neural Networks"
   ]
  },
  {
   "cell_type": "markdown",
   "id": "b7782430-8d2f-4cbd-8905-84960f5dbeb6",
   "metadata": {
    "slideshow": {
     "slide_type": "slide"
    }
   },
   "source": [
    "## This week's task:\n",
    "## Train a Neural Network to predict the grades of a metal alloy based on a series of parameters\n",
    "\n",
    "### Description\n",
    "\n",
    "During the metal manufacturing process, a range of parameters can affect the grade, and therefore the potential uses, of the resulting alloy. Given values for these parameters, we would like to be able to predict the grade of the resulting alloy."
   ]
  },
  {
   "cell_type": "markdown",
   "id": "3e35dd6f",
   "metadata": {
    "slideshow": {
     "slide_type": "subslide"
    }
   },
   "source": [
    "### The dataset\n",
    "\n",
    "The dataset included in the accompanying `Metal_Grade.csv` file is a slightly modified version of the dataset from this [link](https://www.kaggle.com/esotericazzo/metal-furnace-dataset) and includes 27 factors affecting the quality of manufactured alloys, along with the resulting grade for 620 cases. The file can be visualised with `pandas` as:"
   ]
  },
  {
   "cell_type": "code",
   "execution_count": 4,
   "id": "f173679e",
   "metadata": {
    "slideshow": {
     "slide_type": "subslide"
    }
   },
   "outputs": [
    {
     "data": {
      "text/html": [
       "<div>\n",
       "<style scoped>\n",
       "    .dataframe tbody tr th:only-of-type {\n",
       "        vertical-align: middle;\n",
       "    }\n",
       "\n",
       "    .dataframe tbody tr th {\n",
       "        vertical-align: top;\n",
       "    }\n",
       "\n",
       "    .dataframe thead th {\n",
       "        text-align: right;\n",
       "    }\n",
       "</style>\n",
       "<table border=\"1\" class=\"dataframe\">\n",
       "  <thead>\n",
       "    <tr style=\"text-align: right;\">\n",
       "      <th></th>\n",
       "      <th>f0</th>\n",
       "      <th>f1</th>\n",
       "      <th>f2</th>\n",
       "      <th>f3</th>\n",
       "      <th>f4</th>\n",
       "      <th>f5</th>\n",
       "      <th>f6</th>\n",
       "      <th>f7</th>\n",
       "      <th>f8</th>\n",
       "      <th>f9</th>\n",
       "      <th>...</th>\n",
       "      <th>f18</th>\n",
       "      <th>f19</th>\n",
       "      <th>f20</th>\n",
       "      <th>f21</th>\n",
       "      <th>f22</th>\n",
       "      <th>f23</th>\n",
       "      <th>f24</th>\n",
       "      <th>f25</th>\n",
       "      <th>f26</th>\n",
       "      <th>grade</th>\n",
       "    </tr>\n",
       "  </thead>\n",
       "  <tbody>\n",
       "    <tr>\n",
       "      <th>0</th>\n",
       "      <td>1.848564</td>\n",
       "      <td>-0.264250</td>\n",
       "      <td>-0.461423</td>\n",
       "      <td>0.409400</td>\n",
       "      <td>1.305455</td>\n",
       "      <td>2.329398</td>\n",
       "      <td>0.370965</td>\n",
       "      <td>0.090167</td>\n",
       "      <td>0.107958</td>\n",
       "      <td>0.395874</td>\n",
       "      <td>...</td>\n",
       "      <td>0.085505</td>\n",
       "      <td>0.233285</td>\n",
       "      <td>-1.080663</td>\n",
       "      <td>0.443257</td>\n",
       "      <td>-0.406121</td>\n",
       "      <td>-0.687687</td>\n",
       "      <td>0.271886</td>\n",
       "      <td>3.727218</td>\n",
       "      <td>0.102129</td>\n",
       "      <td>2</td>\n",
       "    </tr>\n",
       "    <tr>\n",
       "      <th>1</th>\n",
       "      <td>-0.825098</td>\n",
       "      <td>-0.264250</td>\n",
       "      <td>3.032397</td>\n",
       "      <td>-2.442599</td>\n",
       "      <td>1.305455</td>\n",
       "      <td>-0.276144</td>\n",
       "      <td>0.370965</td>\n",
       "      <td>0.090167</td>\n",
       "      <td>0.107958</td>\n",
       "      <td>0.395874</td>\n",
       "      <td>...</td>\n",
       "      <td>0.085505</td>\n",
       "      <td>0.233285</td>\n",
       "      <td>-1.080663</td>\n",
       "      <td>-0.232546</td>\n",
       "      <td>-0.406366</td>\n",
       "      <td>-0.687687</td>\n",
       "      <td>0.271886</td>\n",
       "      <td>-0.232472</td>\n",
       "      <td>0.102129</td>\n",
       "      <td>4</td>\n",
       "    </tr>\n",
       "    <tr>\n",
       "      <th>2</th>\n",
       "      <td>1.848564</td>\n",
       "      <td>-0.264250</td>\n",
       "      <td>-0.461423</td>\n",
       "      <td>0.409400</td>\n",
       "      <td>1.305455</td>\n",
       "      <td>2.329398</td>\n",
       "      <td>0.370965</td>\n",
       "      <td>0.090167</td>\n",
       "      <td>0.107958</td>\n",
       "      <td>0.395874</td>\n",
       "      <td>...</td>\n",
       "      <td>0.085505</td>\n",
       "      <td>0.233285</td>\n",
       "      <td>0.925358</td>\n",
       "      <td>1.459782</td>\n",
       "      <td>1.221876</td>\n",
       "      <td>1.877777</td>\n",
       "      <td>0.271886</td>\n",
       "      <td>-0.232472</td>\n",
       "      <td>0.102129</td>\n",
       "      <td>2</td>\n",
       "    </tr>\n",
       "    <tr>\n",
       "      <th>3</th>\n",
       "      <td>0.511733</td>\n",
       "      <td>-0.264250</td>\n",
       "      <td>-0.461423</td>\n",
       "      <td>0.409400</td>\n",
       "      <td>-0.525726</td>\n",
       "      <td>-0.276144</td>\n",
       "      <td>0.370965</td>\n",
       "      <td>0.090167</td>\n",
       "      <td>0.107958</td>\n",
       "      <td>0.395874</td>\n",
       "      <td>...</td>\n",
       "      <td>0.085505</td>\n",
       "      <td>0.233285</td>\n",
       "      <td>0.925358</td>\n",
       "      <td>-0.008030</td>\n",
       "      <td>-0.406366</td>\n",
       "      <td>1.504523</td>\n",
       "      <td>0.271886</td>\n",
       "      <td>-0.232472</td>\n",
       "      <td>0.102129</td>\n",
       "      <td>2</td>\n",
       "    </tr>\n",
       "    <tr>\n",
       "      <th>4</th>\n",
       "      <td>-0.825098</td>\n",
       "      <td>-0.264250</td>\n",
       "      <td>-0.461423</td>\n",
       "      <td>0.409400</td>\n",
       "      <td>-0.525726</td>\n",
       "      <td>-0.276144</td>\n",
       "      <td>0.370965</td>\n",
       "      <td>0.090167</td>\n",
       "      <td>0.107958</td>\n",
       "      <td>-2.526055</td>\n",
       "      <td>...</td>\n",
       "      <td>0.085505</td>\n",
       "      <td>0.233285</td>\n",
       "      <td>0.925358</td>\n",
       "      <td>-0.573268</td>\n",
       "      <td>-1.164793</td>\n",
       "      <td>1.877777</td>\n",
       "      <td>0.271886</td>\n",
       "      <td>-0.232472</td>\n",
       "      <td>0.102129</td>\n",
       "      <td>2</td>\n",
       "    </tr>\n",
       "    <tr>\n",
       "      <th>...</th>\n",
       "      <td>...</td>\n",
       "      <td>...</td>\n",
       "      <td>...</td>\n",
       "      <td>...</td>\n",
       "      <td>...</td>\n",
       "      <td>...</td>\n",
       "      <td>...</td>\n",
       "      <td>...</td>\n",
       "      <td>...</td>\n",
       "      <td>...</td>\n",
       "      <td>...</td>\n",
       "      <td>...</td>\n",
       "      <td>...</td>\n",
       "      <td>...</td>\n",
       "      <td>...</td>\n",
       "      <td>...</td>\n",
       "      <td>...</td>\n",
       "      <td>...</td>\n",
       "      <td>...</td>\n",
       "      <td>...</td>\n",
       "      <td>...</td>\n",
       "    </tr>\n",
       "    <tr>\n",
       "      <th>615</th>\n",
       "      <td>-0.825098</td>\n",
       "      <td>-0.264250</td>\n",
       "      <td>2.004803</td>\n",
       "      <td>-2.442599</td>\n",
       "      <td>1.305455</td>\n",
       "      <td>-0.276144</td>\n",
       "      <td>0.370965</td>\n",
       "      <td>0.090167</td>\n",
       "      <td>0.107958</td>\n",
       "      <td>0.395874</td>\n",
       "      <td>...</td>\n",
       "      <td>0.085505</td>\n",
       "      <td>0.233285</td>\n",
       "      <td>-1.080663</td>\n",
       "      <td>-0.684962</td>\n",
       "      <td>-0.406121</td>\n",
       "      <td>-0.687687</td>\n",
       "      <td>0.271886</td>\n",
       "      <td>-0.232472</td>\n",
       "      <td>0.102129</td>\n",
       "      <td>2</td>\n",
       "    </tr>\n",
       "    <tr>\n",
       "      <th>616</th>\n",
       "      <td>-0.379487</td>\n",
       "      <td>3.809407</td>\n",
       "      <td>-0.461423</td>\n",
       "      <td>0.409400</td>\n",
       "      <td>1.305455</td>\n",
       "      <td>-0.276144</td>\n",
       "      <td>0.370965</td>\n",
       "      <td>0.090167</td>\n",
       "      <td>0.107958</td>\n",
       "      <td>0.395874</td>\n",
       "      <td>...</td>\n",
       "      <td>0.085505</td>\n",
       "      <td>0.233285</td>\n",
       "      <td>-1.080663</td>\n",
       "      <td>2.248407</td>\n",
       "      <td>-0.332678</td>\n",
       "      <td>-0.687687</td>\n",
       "      <td>0.271886</td>\n",
       "      <td>4.519156</td>\n",
       "      <td>0.102129</td>\n",
       "      <td>2</td>\n",
       "    </tr>\n",
       "    <tr>\n",
       "      <th>617</th>\n",
       "      <td>-0.825098</td>\n",
       "      <td>-0.264250</td>\n",
       "      <td>-0.461423</td>\n",
       "      <td>0.409400</td>\n",
       "      <td>-0.525726</td>\n",
       "      <td>-0.276144</td>\n",
       "      <td>0.370965</td>\n",
       "      <td>0.090167</td>\n",
       "      <td>0.107958</td>\n",
       "      <td>0.395874</td>\n",
       "      <td>...</td>\n",
       "      <td>0.085505</td>\n",
       "      <td>0.233285</td>\n",
       "      <td>-1.080663</td>\n",
       "      <td>-1.023427</td>\n",
       "      <td>1.332042</td>\n",
       "      <td>-0.687687</td>\n",
       "      <td>0.271886</td>\n",
       "      <td>-0.232472</td>\n",
       "      <td>0.102129</td>\n",
       "      <td>2</td>\n",
       "    </tr>\n",
       "    <tr>\n",
       "      <th>618</th>\n",
       "      <td>-0.825098</td>\n",
       "      <td>-0.264250</td>\n",
       "      <td>2.004803</td>\n",
       "      <td>-2.442599</td>\n",
       "      <td>1.305455</td>\n",
       "      <td>-0.276144</td>\n",
       "      <td>0.370965</td>\n",
       "      <td>0.090167</td>\n",
       "      <td>0.107958</td>\n",
       "      <td>0.395874</td>\n",
       "      <td>...</td>\n",
       "      <td>0.085505</td>\n",
       "      <td>0.233285</td>\n",
       "      <td>-1.080663</td>\n",
       "      <td>3.150982</td>\n",
       "      <td>-1.777067</td>\n",
       "      <td>-0.687687</td>\n",
       "      <td>0.271886</td>\n",
       "      <td>-0.232472</td>\n",
       "      <td>0.102129</td>\n",
       "      <td>2</td>\n",
       "    </tr>\n",
       "    <tr>\n",
       "      <th>619</th>\n",
       "      <td>-0.379487</td>\n",
       "      <td>3.068742</td>\n",
       "      <td>-0.461423</td>\n",
       "      <td>0.409400</td>\n",
       "      <td>1.305455</td>\n",
       "      <td>-0.276144</td>\n",
       "      <td>0.370965</td>\n",
       "      <td>0.090167</td>\n",
       "      <td>0.107958</td>\n",
       "      <td>0.395874</td>\n",
       "      <td>...</td>\n",
       "      <td>0.085505</td>\n",
       "      <td>0.233285</td>\n",
       "      <td>-1.080663</td>\n",
       "      <td>1.120188</td>\n",
       "      <td>0.303833</td>\n",
       "      <td>-0.687687</td>\n",
       "      <td>0.271886</td>\n",
       "      <td>-0.232472</td>\n",
       "      <td>0.102129</td>\n",
       "      <td>2</td>\n",
       "    </tr>\n",
       "  </tbody>\n",
       "</table>\n",
       "<p>620 rows × 28 columns</p>\n",
       "</div>"
      ],
      "text/plain": [
       "           f0        f1        f2        f3        f4        f5        f6  \\\n",
       "0    1.848564 -0.264250 -0.461423  0.409400  1.305455  2.329398  0.370965   \n",
       "1   -0.825098 -0.264250  3.032397 -2.442599  1.305455 -0.276144  0.370965   \n",
       "2    1.848564 -0.264250 -0.461423  0.409400  1.305455  2.329398  0.370965   \n",
       "3    0.511733 -0.264250 -0.461423  0.409400 -0.525726 -0.276144  0.370965   \n",
       "4   -0.825098 -0.264250 -0.461423  0.409400 -0.525726 -0.276144  0.370965   \n",
       "..        ...       ...       ...       ...       ...       ...       ...   \n",
       "615 -0.825098 -0.264250  2.004803 -2.442599  1.305455 -0.276144  0.370965   \n",
       "616 -0.379487  3.809407 -0.461423  0.409400  1.305455 -0.276144  0.370965   \n",
       "617 -0.825098 -0.264250 -0.461423  0.409400 -0.525726 -0.276144  0.370965   \n",
       "618 -0.825098 -0.264250  2.004803 -2.442599  1.305455 -0.276144  0.370965   \n",
       "619 -0.379487  3.068742 -0.461423  0.409400  1.305455 -0.276144  0.370965   \n",
       "\n",
       "           f7        f8        f9  ...       f18       f19       f20  \\\n",
       "0    0.090167  0.107958  0.395874  ...  0.085505  0.233285 -1.080663   \n",
       "1    0.090167  0.107958  0.395874  ...  0.085505  0.233285 -1.080663   \n",
       "2    0.090167  0.107958  0.395874  ...  0.085505  0.233285  0.925358   \n",
       "3    0.090167  0.107958  0.395874  ...  0.085505  0.233285  0.925358   \n",
       "4    0.090167  0.107958 -2.526055  ...  0.085505  0.233285  0.925358   \n",
       "..        ...       ...       ...  ...       ...       ...       ...   \n",
       "615  0.090167  0.107958  0.395874  ...  0.085505  0.233285 -1.080663   \n",
       "616  0.090167  0.107958  0.395874  ...  0.085505  0.233285 -1.080663   \n",
       "617  0.090167  0.107958  0.395874  ...  0.085505  0.233285 -1.080663   \n",
       "618  0.090167  0.107958  0.395874  ...  0.085505  0.233285 -1.080663   \n",
       "619  0.090167  0.107958  0.395874  ...  0.085505  0.233285 -1.080663   \n",
       "\n",
       "          f21       f22       f23       f24       f25       f26  grade  \n",
       "0    0.443257 -0.406121 -0.687687  0.271886  3.727218  0.102129      2  \n",
       "1   -0.232546 -0.406366 -0.687687  0.271886 -0.232472  0.102129      4  \n",
       "2    1.459782  1.221876  1.877777  0.271886 -0.232472  0.102129      2  \n",
       "3   -0.008030 -0.406366  1.504523  0.271886 -0.232472  0.102129      2  \n",
       "4   -0.573268 -1.164793  1.877777  0.271886 -0.232472  0.102129      2  \n",
       "..        ...       ...       ...       ...       ...       ...    ...  \n",
       "615 -0.684962 -0.406121 -0.687687  0.271886 -0.232472  0.102129      2  \n",
       "616  2.248407 -0.332678 -0.687687  0.271886  4.519156  0.102129      2  \n",
       "617 -1.023427  1.332042 -0.687687  0.271886 -0.232472  0.102129      2  \n",
       "618  3.150982 -1.777067 -0.687687  0.271886 -0.232472  0.102129      2  \n",
       "619  1.120188  0.303833 -0.687687  0.271886 -0.232472  0.102129      2  \n",
       "\n",
       "[620 rows x 28 columns]"
      ]
     },
     "execution_count": 4,
     "metadata": {},
     "output_type": "execute_result"
    }
   ],
   "source": [
    "import pandas as pd #import pandas module\n",
    "\n",
    "#pd.set_option('display.max_rows', None) #uncomment this line to view all rows\n",
    "#pd.set_option('display.max_columns', None) #uncomment this line to view all columns\n",
    "\n",
    "metalDf = pd.read_csv(\"Metal_Grade.csv\") #read the file containing the data\n",
    "\n",
    "metalDf #visualise data"
   ]
  },
  {
   "cell_type": "markdown",
   "id": "5c60b1ec",
   "metadata": {
    "slideshow": {
     "slide_type": "slide"
    }
   },
   "source": [
    "## The SLP with multiple outputs\n",
    "\n",
    "### Architecture\n",
    "\n",
    "The first issue that we encounter when trying to apply the SLP to more complicated problems, such as the one described above, is the number of outputs. \n",
    "\n",
    "The SLP, as described in the previous lecture, has a single output, which can be converted to binary format by applying an activation function and a threshold. However, this is only suitable for regression with one output, or binary classification."
   ]
  },
  {
   "cell_type": "markdown",
   "id": "449cad0c",
   "metadata": {
    "slideshow": {
     "slide_type": "subslide"
    }
   },
   "source": [
    "A way to extend the SLP to more complicated problems, is by simply increasing the number of outputs, as illustrated below for a SLP with 3 inputs:\n",
    "\n",
    "<br />\n",
    "<br />\n",
    "\n",
    "<div>\n",
    "<img src=\"./Figures/slp_2a.png\" width=\"600\" align=\"center\">\n",
    "</div>"
   ]
  },
  {
   "cell_type": "markdown",
   "id": "632b6a7f",
   "metadata": {
    "slideshow": {
     "slide_type": "subslide"
    }
   },
   "source": [
    "The above figure introduces an alternative way of drawing neural networks, where:\n",
    "\n",
    "- An additional \"fictitious\" input with value 1 is considered.\n",
    "- The weights corresponding to this input are aquivalent to the biases."
   ]
  },
  {
   "cell_type": "markdown",
   "id": "433ab14b",
   "metadata": {
    "slideshow": {
     "slide_type": "subslide"
    }
   },
   "source": [
    "However, very often, this part is ommited, and networks are simply drawn as:\n",
    "\n",
    "<br />\n",
    "<br />\n",
    "\n",
    "<div>\n",
    "<img src=\"./Figures/slp_2b.png\" width=\"600\" align=\"center\">\n",
    "</div>"
   ]
  },
  {
   "cell_type": "markdown",
   "id": "059f0cac",
   "metadata": {
    "slideshow": {
     "slide_type": "subslide"
    }
   },
   "source": [
    "Moreover, notice that:\n",
    "\n",
    "- Every input is connected to every output, creating a so called fully connected layer\n",
    "- Weights have two indices:\n",
    "    + the first is related to the input they are connected to and\n",
    "    + the second is related to the output.\n",
    "- Biases also have an index, since a different bias is defined for each output."
   ]
  },
  {
   "cell_type": "markdown",
   "id": "f91575a1",
   "metadata": {
    "slideshow": {
     "slide_type": "subslide"
    }
   },
   "source": [
    "This architecture can be directly used for regression with multiple outputs. For classification problems, the outputs can be converted to values representing probabilities of the inputs belonging to each class through the use of a softmax activation function. \n",
    "\n",
    "The expression for the softmax function is: $$f\\left( \\mathbf{x} \\right)_i = \\dfrac{e^{x_i}}{\\Sigma_{j=1}^{n}e^{x_j}}$$ As an example, if the outputs of a MLP for classification using three classes are $y_1=12, y_2 = 16, y_3 = 17$, applying the softmax function will yield: "
   ]
  },
  {
   "cell_type": "code",
   "execution_count": 5,
   "id": "228945f1",
   "metadata": {
    "slideshow": {
     "slide_type": "subslide"
    }
   },
   "outputs": [
    {
     "name": "stdout",
     "output_type": "stream",
     "text": [
      "[0.00490169 0.26762315 0.72747516]\n"
     ]
    }
   ],
   "source": [
    "import numpy as np\n",
    "\n",
    "def softmax(x):\n",
    "    '''Softmax function'''\n",
    "    return np.exp(x)/np.sum(np.exp(x))\n",
    "\n",
    "y = np.array([12., 16., 17.])\n",
    "\n",
    "yProb = softmax(y);\n",
    "\n",
    "print(yProb)"
   ]
  },
  {
   "cell_type": "markdown",
   "id": "179095cd",
   "metadata": {
    "slideshow": {
     "slide_type": "subslide"
    }
   },
   "source": [
    "The above can be interpreted as the input having 0.49% probability of belonging to class 1, 26.76% probability of belonging to class 2 and 72.74% probability of belonging to class 3. Very often we are only interested in knowing which class each input belongs to. This can be achieved by just extracting the class with the highest probability. Using numpy, this can be done as:"
   ]
  },
  {
   "cell_type": "code",
   "execution_count": 6,
   "id": "4f2fe794",
   "metadata": {
    "slideshow": {
     "slide_type": "subslide"
    }
   },
   "outputs": [
    {
     "name": "stdout",
     "output_type": "stream",
     "text": [
      "2\n"
     ]
    }
   ],
   "source": [
    "yClass = np.argmax(yProb) #argmax returns the index of the maximum element of an array\n",
    "print(yClass)"
   ]
  },
  {
   "cell_type": "markdown",
   "id": "09d75920",
   "metadata": {
    "slideshow": {
     "slide_type": "slide"
    }
   },
   "source": [
    "### Mathematical expression\n",
    "\n",
    "For a general network with $n$ inputs and $m$ outputs, the operations performed by individual elements can be compactly described by the following expression:\n",
    "\n",
    "$ y_j = f\\left( \\Sigma_{i=1}^n w_{ij} x_j + b_j \\right)$\n",
    "\n",
    "where:\n",
    "\n",
    "+ $x_i$ are the inputs, for instance $x_1, x_2, \\dots$\n",
    "+ $y_j$ are the outputs, for instance $y_1, y_2, \\dots$\n",
    "+ $w_{ij}$ is the weight corresponding to input $i$ and output $j$\n",
    "+ $b_j$ is the bias corresponding to output $j$\n",
    "+ $f$ is the activation function"
   ]
  },
  {
   "cell_type": "markdown",
   "id": "9ff262f7",
   "metadata": {
    "slideshow": {
     "slide_type": "subslide"
    }
   },
   "source": [
    "The inputs weights, biases, and outputs in the above expression can be written in matrix form as:\n",
    "\n",
    "$$\\mathbf{x} = \\left[\t\n",
    "\t\\begin{array}{c }\n",
    "    \tx_1   \\\\\n",
    "     \tx_2   \\\\\n",
    "        \\vdots \\\\\n",
    "        x_n  \\end{array}\\right], \\mathbf{W} = \\left[\t\n",
    "\t\\begin{array}{c c c }\n",
    "    \tw_{11} & w_{12} & \\dots  & w_{1m} \\\\\n",
    "     \tw_{21} & w_{22} & \\dots  & w_{2m} \\\\\n",
    "        \\vdots & \\vdots & \\ddots & \\vdots \\\\\n",
    "        w_{n1} & w_{n2} & \\dots  & w_{nm}\\end{array}\\right]$$\n",
    "        \n",
    "$$\\mathbf{b} = \\left[\t\n",
    "\t\\begin{array}{c }\n",
    "    \tb_1   \\\\\n",
    "     \tb_2   \\\\\n",
    "        \\vdots \\\\\n",
    "        b_m  \\end{array}\\right], \\mathbf{y} = \\left[\t\n",
    "\t\\begin{array}{c }\n",
    "    \ty_1   \\\\\n",
    "     \ty_2   \\\\\n",
    "        \\vdots \\\\\n",
    "        y_m  \\end{array}\\right]$$\n",
    "\n",
    "Then, the mathematical expression describing the SLP can be re-written as:\n",
    "\n",
    "$$ \\mathbf{y}^T = f\\left( \\mathbf{x}^T \\mathbf{W} + \\mathbf{b}^T \\right) $$"
   ]
  },
  {
   "cell_type": "markdown",
   "id": "9aaf4ab3",
   "metadata": {
    "slideshow": {
     "slide_type": "slide"
    }
   },
   "source": [
    "### Example\n",
    "\n",
    "As an example, consider a set of points in the 2D plane, stored in the accompanying `plane_points_3_classes.txt` and `plane_points_3_classes_labels.txt` files. They points are divided into three classes and can be loaded and visualised as follows:"
   ]
  },
  {
   "cell_type": "code",
   "execution_count": 7,
   "id": "983ccb20",
   "metadata": {
    "slideshow": {
     "slide_type": "subslide"
    }
   },
   "outputs": [
    {
     "data": {
      "image/png": "[encoded data removed]",
      "text/plain": [
       "<Figure size 432x288 with 1 Axes>"
      ]
     },
     "metadata": {
      "needs_background": "light"
     },
     "output_type": "display_data"
    }
   ],
   "source": [
    "import numpy as np #import numpy\n",
    "from matplotlib import pyplot as plt #import pyplot\n",
    "\n",
    "#load points and labels\n",
    "x3 = np.loadtxt('plane_points_3_classes.txt')\n",
    "labels3 = np.loadtxt('plane_points_3_classes_labels.txt')\n",
    "\n",
    "#use np.argwhere to find the indices of the points belonging to each class\n",
    "class0 = np.argwhere(labels3==0)\n",
    "class1 = np.argwhere(labels3==1)\n",
    "class2 = np.argwhere(labels3==2)\n",
    "\n",
    "#plot the points belonging to each class using a different color\n",
    "plt.plot(x3[class0,0],x3[class0,1],'.r')\n",
    "plt.plot(x3[class1,0],x3[class1,1],'.k')\n",
    "plt.plot(x3[class2,0],x3[class2,1],'.b')\n",
    "\n",
    "plt.show()"
   ]
  },
  {
   "cell_type": "markdown",
   "id": "6eab9e43",
   "metadata": {
    "slideshow": {
     "slide_type": "subslide"
    }
   },
   "source": [
    "#### Training with tensorflow\n",
    "\n",
    "Next a SLP with three outputs and a sofmax activation function can be trained to classify the points using `keras`. The syntax is almost identical to the one used in the previous lecture, with three differences:\n",
    "+ Three outputs are used to match the number of classes\n",
    "+ The `activation` option is set to `softmax`, to convert the outputs to probabilities\n",
    "+ `SparseCategoricalEntropy` is used as a loss. This option is suitable for classification with multiple classes, where the labels are inegers corresponding to the class number"
   ]
  },
  {
   "cell_type": "code",
   "execution_count": 8,
   "id": "fa322245",
   "metadata": {
    "slideshow": {
     "slide_type": "subslide"
    }
   },
   "outputs": [
    {
     "name": "stdout",
     "output_type": "stream",
     "text": [
      "Epoch 1/500\n",
      "32/32 [==============================] - 1s 2ms/step - loss: 1.2647 - accuracy: 0.2890\n",
      "Epoch 2/500\n",
      "32/32 [==============================] - 0s 2ms/step - loss: 1.2356 - accuracy: 0.3110\n",
      "Epoch 3/500\n",
      "32/32 [==============================] - 0s 2ms/step - loss: 1.2078 - accuracy: 0.3330\n",
      "Epoch 4/500\n",
      "32/32 [==============================] - 0s 2ms/step - loss: 1.1808 - accuracy: 0.3590\n",
      "Epoch 5/500\n",
      "32/32 [==============================] - 0s 2ms/step - loss: 1.1547 - accuracy: 0.3910\n",
      "Epoch 6/500\n",
      "32/32 [==============================] - 0s 2ms/step - loss: 1.1299 - accuracy: 0.4200\n",
      "Epoch 7/500\n",
      "32/32 [==============================] - 0s 2ms/step - loss: 1.1058 - accuracy: 0.4450\n",
      "Epoch 8/500\n",
      "32/32 [==============================] - 0s 2ms/step - loss: 1.0825 - accuracy: 0.4730\n",
      "Epoch 9/500\n",
      "32/32 [==============================] - 0s 2ms/step - loss: 1.0600 - accuracy: 0.5000\n",
      "Epoch 10/500\n",
      "32/32 [==============================] - 0s 2ms/step - loss: 1.0382 - accuracy: 0.5280\n",
      "Epoch 11/500\n",
      "32/32 [==============================] - 0s 2ms/step - loss: 1.0173 - accuracy: 0.5640\n",
      "Epoch 12/500\n",
      "32/32 [==============================] - 0s 3ms/step - loss: 0.9971 - accuracy: 0.5990\n",
      "Epoch 13/500\n",
      "32/32 [==============================] - 0s 3ms/step - loss: 0.9772 - accuracy: 0.6650\n",
      "Epoch 14/500\n",
      "32/32 [==============================] - 0s 2ms/step - loss: 0.9582 - accuracy: 0.7130\n",
      "Epoch 15/500\n",
      "32/32 [==============================] - 0s 2ms/step - loss: 0.9396 - accuracy: 0.7170\n",
      "Epoch 16/500\n",
      "32/32 [==============================] - 0s 2ms/step - loss: 0.9216 - accuracy: 0.7170\n",
      "Epoch 17/500\n",
      "32/32 [==============================] - 0s 2ms/step - loss: 0.9043 - accuracy: 0.7170\n",
      "Epoch 18/500\n",
      "32/32 [==============================] - 0s 2ms/step - loss: 0.8875 - accuracy: 0.7170\n",
      "Epoch 19/500\n",
      "32/32 [==============================] - 0s 2ms/step - loss: 0.8712 - accuracy: 0.7170\n",
      "Epoch 20/500\n",
      "32/32 [==============================] - 0s 2ms/step - loss: 0.8555 - accuracy: 0.7170\n",
      "Epoch 21/500\n",
      "32/32 [==============================] - 0s 2ms/step - loss: 0.8403 - accuracy: 0.7170\n",
      "Epoch 22/500\n",
      "32/32 [==============================] - 0s 2ms/step - loss: 0.8255 - accuracy: 0.7160\n",
      "Epoch 23/500\n",
      "32/32 [==============================] - 0s 3ms/step - loss: 0.8111 - accuracy: 0.7180\n",
      "Epoch 24/500\n",
      "32/32 [==============================] - 0s 2ms/step - loss: 0.7973 - accuracy: 0.7230\n",
      "Epoch 25/500\n",
      "32/32 [==============================] - 0s 2ms/step - loss: 0.7837 - accuracy: 0.7280\n",
      "Epoch 26/500\n",
      "32/32 [==============================] - 0s 2ms/step - loss: 0.7707 - accuracy: 0.7420\n",
      "Epoch 27/500\n",
      "32/32 [==============================] - 0s 2ms/step - loss: 0.7581 - accuracy: 0.7540\n",
      "Epoch 28/500\n",
      "32/32 [==============================] - 0s 2ms/step - loss: 0.7457 - accuracy: 0.7680\n",
      "Epoch 29/500\n",
      "32/32 [==============================] - 0s 2ms/step - loss: 0.7337 - accuracy: 0.7760\n",
      "Epoch 30/500\n",
      "32/32 [==============================] - 0s 2ms/step - loss: 0.7222 - accuracy: 0.7920\n",
      "Epoch 31/500\n",
      "32/32 [==============================] - 0s 2ms/step - loss: 0.7109 - accuracy: 0.8020\n",
      "Epoch 32/500\n",
      "32/32 [==============================] - 0s 2ms/step - loss: 0.7000 - accuracy: 0.8150\n",
      "Epoch 33/500\n",
      "32/32 [==============================] - 0s 2ms/step - loss: 0.6894 - accuracy: 0.8290\n",
      "Epoch 34/500\n",
      "32/32 [==============================] - 0s 2ms/step - loss: 0.6790 - accuracy: 0.8390\n",
      "Epoch 35/500\n",
      "32/32 [==============================] - 0s 2ms/step - loss: 0.6691 - accuracy: 0.8490\n",
      "Epoch 36/500\n",
      "32/32 [==============================] - 0s 2ms/step - loss: 0.6594 - accuracy: 0.8520\n",
      "Epoch 37/500\n",
      "32/32 [==============================] - 0s 2ms/step - loss: 0.6501 - accuracy: 0.8630\n",
      "Epoch 38/500\n",
      "32/32 [==============================] - 0s 2ms/step - loss: 0.6408 - accuracy: 0.8690\n",
      "Epoch 39/500\n",
      "32/32 [==============================] - 0s 2ms/step - loss: 0.6319 - accuracy: 0.8750\n",
      "Epoch 40/500\n",
      "32/32 [==============================] - 0s 2ms/step - loss: 0.6233 - accuracy: 0.8890\n",
      "Epoch 41/500\n",
      "32/32 [==============================] - 0s 2ms/step - loss: 0.6149 - accuracy: 0.8940\n",
      "Epoch 42/500\n",
      "32/32 [==============================] - 0s 2ms/step - loss: 0.6067 - accuracy: 0.9000\n",
      "Epoch 43/500\n",
      "32/32 [==============================] - 0s 2ms/step - loss: 0.5989 - accuracy: 0.9030\n",
      "Epoch 44/500\n",
      "32/32 [==============================] - 0s 2ms/step - loss: 0.5911 - accuracy: 0.9100\n",
      "Epoch 45/500\n",
      "32/32 [==============================] - 0s 2ms/step - loss: 0.5836 - accuracy: 0.9170\n",
      "Epoch 46/500\n",
      "32/32 [==============================] - 0s 2ms/step - loss: 0.5763 - accuracy: 0.9210\n",
      "Epoch 47/500\n",
      "32/32 [==============================] - 0s 2ms/step - loss: 0.5692 - accuracy: 0.9260\n",
      "Epoch 48/500\n",
      "32/32 [==============================] - 0s 2ms/step - loss: 0.5623 - accuracy: 0.9260\n",
      "Epoch 49/500\n",
      "32/32 [==============================] - 0s 2ms/step - loss: 0.5555 - accuracy: 0.9310\n",
      "Epoch 50/500\n",
      "32/32 [==============================] - 0s 2ms/step - loss: 0.5489 - accuracy: 0.9320\n",
      "Epoch 51/500\n",
      "32/32 [==============================] - 0s 2ms/step - loss: 0.5425 - accuracy: 0.9340\n",
      "Epoch 52/500\n",
      "32/32 [==============================] - 0s 2ms/step - loss: 0.5363 - accuracy: 0.9360\n",
      "Epoch 53/500\n",
      "32/32 [==============================] - 0s 2ms/step - loss: 0.5302 - accuracy: 0.9360\n",
      "Epoch 54/500\n",
      "32/32 [==============================] - 0s 2ms/step - loss: 0.5241 - accuracy: 0.9400\n",
      "Epoch 55/500\n",
      "32/32 [==============================] - 0s 2ms/step - loss: 0.5184 - accuracy: 0.9420\n",
      "Epoch 56/500\n",
      "32/32 [==============================] - 0s 2ms/step - loss: 0.5127 - accuracy: 0.9460\n",
      "Epoch 57/500\n",
      "32/32 [==============================] - 0s 2ms/step - loss: 0.5072 - accuracy: 0.9510\n",
      "Epoch 58/500\n",
      "32/32 [==============================] - 0s 2ms/step - loss: 0.5017 - accuracy: 0.9530\n",
      "Epoch 59/500\n",
      "32/32 [==============================] - 0s 2ms/step - loss: 0.4964 - accuracy: 0.9550\n",
      "Epoch 60/500\n",
      "32/32 [==============================] - 0s 2ms/step - loss: 0.4912 - accuracy: 0.9540\n",
      "Epoch 61/500\n",
      "32/32 [==============================] - 0s 2ms/step - loss: 0.4863 - accuracy: 0.9560\n",
      "Epoch 62/500\n",
      "32/32 [==============================] - 0s 2ms/step - loss: 0.4813 - accuracy: 0.9590\n",
      "Epoch 63/500\n",
      "32/32 [==============================] - 0s 2ms/step - loss: 0.4765 - accuracy: 0.9600\n",
      "Epoch 64/500\n",
      "32/32 [==============================] - 0s 2ms/step - loss: 0.4717 - accuracy: 0.9620\n",
      "Epoch 65/500\n",
      "32/32 [==============================] - 0s 2ms/step - loss: 0.4671 - accuracy: 0.9600\n",
      "Epoch 66/500\n",
      "32/32 [==============================] - 0s 2ms/step - loss: 0.4626 - accuracy: 0.9610\n",
      "Epoch 67/500\n",
      "32/32 [==============================] - 0s 2ms/step - loss: 0.4581 - accuracy: 0.9610\n",
      "Epoch 68/500\n",
      "32/32 [==============================] - 0s 2ms/step - loss: 0.4538 - accuracy: 0.9610\n",
      "Epoch 69/500\n",
      "32/32 [==============================] - 0s 2ms/step - loss: 0.4496 - accuracy: 0.9620\n",
      "Epoch 70/500\n",
      "32/32 [==============================] - 0s 2ms/step - loss: 0.4454 - accuracy: 0.9630\n",
      "Epoch 71/500\n",
      "32/32 [==============================] - 0s 2ms/step - loss: 0.4414 - accuracy: 0.9640\n",
      "Epoch 72/500\n",
      "32/32 [==============================] - 0s 2ms/step - loss: 0.4373 - accuracy: 0.9660\n",
      "Epoch 73/500\n",
      "32/32 [==============================] - 0s 2ms/step - loss: 0.4334 - accuracy: 0.9670\n",
      "Epoch 74/500\n",
      "32/32 [==============================] - 0s 2ms/step - loss: 0.4295 - accuracy: 0.9670\n",
      "Epoch 75/500\n",
      "32/32 [==============================] - 0s 2ms/step - loss: 0.4258 - accuracy: 0.9660\n",
      "Epoch 76/500\n",
      "32/32 [==============================] - 0s 2ms/step - loss: 0.4221 - accuracy: 0.9660\n",
      "Epoch 77/500\n",
      "32/32 [==============================] - 0s 3ms/step - loss: 0.4185 - accuracy: 0.9660\n",
      "Epoch 78/500\n",
      "32/32 [==============================] - 0s 3ms/step - loss: 0.4149 - accuracy: 0.9660\n",
      "Epoch 79/500\n",
      "32/32 [==============================] - 0s 3ms/step - loss: 0.4114 - accuracy: 0.9660\n",
      "Epoch 80/500\n",
      "32/32 [==============================] - 0s 3ms/step - loss: 0.4081 - accuracy: 0.9650\n",
      "Epoch 81/500\n",
      "32/32 [==============================] - 0s 2ms/step - loss: 0.4047 - accuracy: 0.9660\n",
      "Epoch 82/500\n",
      "32/32 [==============================] - 0s 2ms/step - loss: 0.4014 - accuracy: 0.9660\n",
      "Epoch 83/500\n",
      "32/32 [==============================] - 0s 2ms/step - loss: 0.3981 - accuracy: 0.9670\n",
      "Epoch 84/500\n",
      "32/32 [==============================] - 0s 2ms/step - loss: 0.3949 - accuracy: 0.9670\n",
      "Epoch 85/500\n",
      "32/32 [==============================] - 0s 2ms/step - loss: 0.3918 - accuracy: 0.9680\n",
      "Epoch 86/500\n",
      "32/32 [==============================] - 0s 2ms/step - loss: 0.3888 - accuracy: 0.9690\n",
      "Epoch 87/500\n",
      "32/32 [==============================] - 0s 2ms/step - loss: 0.3857 - accuracy: 0.9690\n",
      "Epoch 88/500\n",
      "32/32 [==============================] - 0s 2ms/step - loss: 0.3828 - accuracy: 0.9690\n",
      "Epoch 89/500\n",
      "32/32 [==============================] - 0s 2ms/step - loss: 0.3798 - accuracy: 0.9710\n",
      "Epoch 90/500\n",
      "32/32 [==============================] - 0s 2ms/step - loss: 0.3770 - accuracy: 0.9710\n",
      "Epoch 91/500\n",
      "32/32 [==============================] - 0s 2ms/step - loss: 0.3742 - accuracy: 0.9700\n",
      "Epoch 92/500\n",
      "32/32 [==============================] - 0s 3ms/step - loss: 0.3714 - accuracy: 0.9700\n",
      "Epoch 93/500\n",
      "32/32 [==============================] - 0s 2ms/step - loss: 0.3687 - accuracy: 0.9690\n",
      "Epoch 94/500\n",
      "32/32 [==============================] - 0s 2ms/step - loss: 0.3659 - accuracy: 0.9690\n",
      "Epoch 95/500\n",
      "32/32 [==============================] - 0s 3ms/step - loss: 0.3633 - accuracy: 0.9690\n",
      "Epoch 96/500\n",
      "32/32 [==============================] - 0s 2ms/step - loss: 0.3607 - accuracy: 0.9690\n",
      "Epoch 97/500\n",
      "32/32 [==============================] - 0s 2ms/step - loss: 0.3582 - accuracy: 0.9700\n",
      "Epoch 98/500\n",
      "32/32 [==============================] - 0s 2ms/step - loss: 0.3557 - accuracy: 0.9690\n",
      "Epoch 99/500\n",
      "32/32 [==============================] - 0s 2ms/step - loss: 0.3531 - accuracy: 0.9690\n",
      "Epoch 100/500\n",
      "32/32 [==============================] - 0s 2ms/step - loss: 0.3507 - accuracy: 0.9680\n",
      "Epoch 101/500\n",
      "32/32 [==============================] - 0s 2ms/step - loss: 0.3483 - accuracy: 0.9680\n",
      "Epoch 102/500\n",
      "32/32 [==============================] - 0s 3ms/step - loss: 0.3459 - accuracy: 0.9680\n",
      "Epoch 103/500\n",
      "32/32 [==============================] - 0s 2ms/step - loss: 0.3436 - accuracy: 0.9690\n",
      "Epoch 104/500\n",
      "32/32 [==============================] - 0s 2ms/step - loss: 0.3413 - accuracy: 0.9680\n",
      "Epoch 105/500\n",
      "32/32 [==============================] - 0s 2ms/step - loss: 0.3390 - accuracy: 0.9680\n",
      "Epoch 106/500\n",
      "32/32 [==============================] - 0s 2ms/step - loss: 0.3368 - accuracy: 0.9680\n",
      "Epoch 107/500\n",
      "32/32 [==============================] - 0s 2ms/step - loss: 0.3346 - accuracy: 0.9670\n",
      "Epoch 108/500\n",
      "32/32 [==============================] - 0s 2ms/step - loss: 0.3324 - accuracy: 0.9670\n",
      "Epoch 109/500\n",
      "32/32 [==============================] - 0s 2ms/step - loss: 0.3302 - accuracy: 0.9670\n",
      "Epoch 110/500\n",
      "32/32 [==============================] - 0s 2ms/step - loss: 0.3281 - accuracy: 0.9660\n",
      "Epoch 111/500\n",
      "32/32 [==============================] - 0s 2ms/step - loss: 0.3260 - accuracy: 0.9670\n",
      "Epoch 112/500\n",
      "32/32 [==============================] - 0s 3ms/step - loss: 0.3240 - accuracy: 0.9660\n",
      "Epoch 113/500\n",
      "32/32 [==============================] - 0s 2ms/step - loss: 0.3220 - accuracy: 0.9640\n",
      "Epoch 114/500\n",
      "32/32 [==============================] - 0s 2ms/step - loss: 0.3200 - accuracy: 0.9670\n",
      "Epoch 115/500\n",
      "32/32 [==============================] - 0s 2ms/step - loss: 0.3180 - accuracy: 0.9650\n",
      "Epoch 116/500\n",
      "32/32 [==============================] - 0s 2ms/step - loss: 0.3160 - accuracy: 0.9640\n",
      "Epoch 117/500\n",
      "32/32 [==============================] - 0s 2ms/step - loss: 0.3141 - accuracy: 0.9660\n",
      "Epoch 118/500\n",
      "32/32 [==============================] - 0s 2ms/step - loss: 0.3122 - accuracy: 0.9650\n",
      "Epoch 119/500\n",
      "32/32 [==============================] - 0s 2ms/step - loss: 0.3104 - accuracy: 0.9660\n",
      "Epoch 120/500\n",
      "32/32 [==============================] - 0s 2ms/step - loss: 0.3085 - accuracy: 0.9670\n",
      "Epoch 121/500\n",
      "32/32 [==============================] - 0s 2ms/step - loss: 0.3067 - accuracy: 0.9650\n",
      "Epoch 122/500\n",
      "32/32 [==============================] - 0s 3ms/step - loss: 0.3049 - accuracy: 0.9640\n",
      "Epoch 123/500\n",
      "32/32 [==============================] - 0s 2ms/step - loss: 0.3031 - accuracy: 0.9650\n",
      "Epoch 124/500\n",
      "32/32 [==============================] - 0s 2ms/step - loss: 0.3014 - accuracy: 0.9670\n",
      "Epoch 125/500\n",
      "32/32 [==============================] - 0s 2ms/step - loss: 0.2996 - accuracy: 0.9670\n",
      "Epoch 126/500\n",
      "32/32 [==============================] - 0s 2ms/step - loss: 0.2979 - accuracy: 0.9670\n",
      "Epoch 127/500\n",
      "32/32 [==============================] - 0s 2ms/step - loss: 0.2963 - accuracy: 0.9670\n",
      "Epoch 128/500\n",
      "32/32 [==============================] - 0s 2ms/step - loss: 0.2946 - accuracy: 0.9640\n",
      "Epoch 129/500\n",
      "32/32 [==============================] - 0s 2ms/step - loss: 0.2930 - accuracy: 0.9650\n",
      "Epoch 130/500\n",
      "32/32 [==============================] - 0s 2ms/step - loss: 0.2913 - accuracy: 0.9650\n",
      "Epoch 131/500\n",
      "32/32 [==============================] - 0s 2ms/step - loss: 0.2897 - accuracy: 0.9660\n",
      "Epoch 132/500\n",
      "32/32 [==============================] - 0s 2ms/step - loss: 0.2881 - accuracy: 0.9670\n",
      "Epoch 133/500\n",
      "32/32 [==============================] - 0s 2ms/step - loss: 0.2865 - accuracy: 0.9670\n",
      "Epoch 134/500\n",
      "32/32 [==============================] - 0s 2ms/step - loss: 0.2850 - accuracy: 0.9650\n",
      "Epoch 135/500\n",
      "32/32 [==============================] - 0s 2ms/step - loss: 0.2834 - accuracy: 0.9670\n",
      "Epoch 136/500\n",
      "32/32 [==============================] - 0s 2ms/step - loss: 0.2819 - accuracy: 0.9670\n",
      "Epoch 137/500\n",
      "32/32 [==============================] - 0s 2ms/step - loss: 0.2804 - accuracy: 0.9680\n",
      "Epoch 138/500\n",
      "32/32 [==============================] - 0s 3ms/step - loss: 0.2790 - accuracy: 0.9670\n",
      "Epoch 139/500\n",
      "32/32 [==============================] - 0s 2ms/step - loss: 0.2775 - accuracy: 0.9650\n",
      "Epoch 140/500\n",
      "32/32 [==============================] - 0s 2ms/step - loss: 0.2761 - accuracy: 0.9670\n",
      "Epoch 141/500\n",
      "32/32 [==============================] - 0s 2ms/step - loss: 0.2746 - accuracy: 0.9670\n",
      "Epoch 142/500\n",
      "32/32 [==============================] - 0s 2ms/step - loss: 0.2732 - accuracy: 0.9670\n",
      "Epoch 143/500\n",
      "32/32 [==============================] - 0s 2ms/step - loss: 0.2718 - accuracy: 0.9680\n",
      "Epoch 144/500\n",
      "32/32 [==============================] - 0s 2ms/step - loss: 0.2704 - accuracy: 0.9670\n",
      "Epoch 145/500\n",
      "32/32 [==============================] - 0s 2ms/step - loss: 0.2690 - accuracy: 0.9660\n",
      "Epoch 146/500\n",
      "32/32 [==============================] - 0s 3ms/step - loss: 0.2677 - accuracy: 0.9660\n",
      "Epoch 147/500\n",
      "32/32 [==============================] - 0s 2ms/step - loss: 0.2663 - accuracy: 0.9660\n",
      "Epoch 148/500\n",
      "32/32 [==============================] - 0s 2ms/step - loss: 0.2650 - accuracy: 0.9670\n",
      "Epoch 149/500\n",
      "32/32 [==============================] - 0s 2ms/step - loss: 0.2637 - accuracy: 0.9650\n",
      "Epoch 150/500\n",
      "32/32 [==============================] - 0s 2ms/step - loss: 0.2624 - accuracy: 0.9650\n",
      "Epoch 151/500\n",
      "32/32 [==============================] - 0s 2ms/step - loss: 0.2611 - accuracy: 0.9660\n",
      "Epoch 152/500\n",
      "32/32 [==============================] - 0s 2ms/step - loss: 0.2598 - accuracy: 0.9660\n",
      "Epoch 153/500\n",
      "32/32 [==============================] - 0s 2ms/step - loss: 0.2585 - accuracy: 0.9660\n",
      "Epoch 154/500\n",
      "32/32 [==============================] - 0s 2ms/step - loss: 0.2573 - accuracy: 0.9660\n",
      "Epoch 155/500\n",
      "32/32 [==============================] - 0s 2ms/step - loss: 0.2561 - accuracy: 0.9670\n",
      "Epoch 156/500\n",
      "32/32 [==============================] - 0s 2ms/step - loss: 0.2549 - accuracy: 0.9660\n",
      "Epoch 157/500\n",
      "32/32 [==============================] - 0s 2ms/step - loss: 0.2536 - accuracy: 0.9670\n",
      "Epoch 158/500\n",
      "32/32 [==============================] - 0s 2ms/step - loss: 0.2525 - accuracy: 0.9680\n",
      "Epoch 159/500\n",
      "32/32 [==============================] - 0s 2ms/step - loss: 0.2513 - accuracy: 0.9690\n",
      "Epoch 160/500\n",
      "32/32 [==============================] - 0s 2ms/step - loss: 0.2501 - accuracy: 0.9690\n",
      "Epoch 161/500\n",
      "32/32 [==============================] - 0s 2ms/step - loss: 0.2490 - accuracy: 0.9680\n",
      "Epoch 162/500\n",
      "32/32 [==============================] - 0s 2ms/step - loss: 0.2478 - accuracy: 0.9680\n",
      "Epoch 163/500\n",
      "32/32 [==============================] - 0s 2ms/step - loss: 0.2467 - accuracy: 0.9690\n",
      "Epoch 164/500\n",
      "32/32 [==============================] - 0s 2ms/step - loss: 0.2456 - accuracy: 0.9690\n",
      "Epoch 165/500\n",
      "32/32 [==============================] - 0s 2ms/step - loss: 0.2445 - accuracy: 0.9690\n",
      "Epoch 166/500\n",
      "32/32 [==============================] - 0s 2ms/step - loss: 0.2433 - accuracy: 0.9700\n",
      "Epoch 167/500\n",
      "32/32 [==============================] - 0s 2ms/step - loss: 0.2423 - accuracy: 0.9700\n",
      "Epoch 168/500\n",
      "32/32 [==============================] - 0s 2ms/step - loss: 0.2412 - accuracy: 0.9690\n",
      "Epoch 169/500\n",
      "32/32 [==============================] - 0s 2ms/step - loss: 0.2401 - accuracy: 0.9690\n",
      "Epoch 170/500\n",
      "32/32 [==============================] - 0s 2ms/step - loss: 0.2391 - accuracy: 0.9700\n",
      "Epoch 171/500\n",
      "32/32 [==============================] - 0s 2ms/step - loss: 0.2380 - accuracy: 0.9690\n",
      "Epoch 172/500\n",
      "32/32 [==============================] - 0s 2ms/step - loss: 0.2370 - accuracy: 0.9700\n",
      "Epoch 173/500\n",
      "32/32 [==============================] - 0s 2ms/step - loss: 0.2359 - accuracy: 0.9700\n",
      "Epoch 174/500\n",
      "32/32 [==============================] - 0s 2ms/step - loss: 0.2350 - accuracy: 0.9700\n",
      "Epoch 175/500\n",
      "32/32 [==============================] - 0s 2ms/step - loss: 0.2339 - accuracy: 0.9700\n",
      "Epoch 176/500\n",
      "32/32 [==============================] - 0s 2ms/step - loss: 0.2329 - accuracy: 0.9690\n",
      "Epoch 177/500\n",
      "32/32 [==============================] - 0s 2ms/step - loss: 0.2319 - accuracy: 0.9700\n",
      "Epoch 178/500\n",
      "32/32 [==============================] - 0s 2ms/step - loss: 0.2309 - accuracy: 0.9700\n",
      "Epoch 179/500\n",
      "32/32 [==============================] - 0s 2ms/step - loss: 0.2300 - accuracy: 0.9700\n",
      "Epoch 180/500\n",
      "32/32 [==============================] - 0s 2ms/step - loss: 0.2290 - accuracy: 0.9700\n",
      "Epoch 181/500\n",
      "32/32 [==============================] - 0s 2ms/step - loss: 0.2281 - accuracy: 0.9700\n",
      "Epoch 182/500\n",
      "32/32 [==============================] - 0s 2ms/step - loss: 0.2271 - accuracy: 0.9700\n",
      "Epoch 183/500\n",
      "32/32 [==============================] - 0s 2ms/step - loss: 0.2261 - accuracy: 0.9700\n",
      "Epoch 184/500\n",
      "32/32 [==============================] - 0s 2ms/step - loss: 0.2252 - accuracy: 0.9700\n",
      "Epoch 185/500\n",
      "32/32 [==============================] - 0s 2ms/step - loss: 0.2243 - accuracy: 0.9700\n",
      "Epoch 186/500\n",
      "32/32 [==============================] - 0s 2ms/step - loss: 0.2234 - accuracy: 0.9700\n",
      "Epoch 187/500\n",
      "32/32 [==============================] - 0s 3ms/step - loss: 0.2225 - accuracy: 0.9700\n",
      "Epoch 188/500\n",
      "32/32 [==============================] - 0s 2ms/step - loss: 0.2216 - accuracy: 0.9690\n",
      "Epoch 189/500\n",
      "32/32 [==============================] - 0s 2ms/step - loss: 0.2207 - accuracy: 0.9700\n",
      "Epoch 190/500\n",
      "32/32 [==============================] - 0s 2ms/step - loss: 0.2198 - accuracy: 0.9710\n",
      "Epoch 191/500\n",
      "32/32 [==============================] - 0s 2ms/step - loss: 0.2190 - accuracy: 0.9700\n",
      "Epoch 192/500\n",
      "32/32 [==============================] - 0s 2ms/step - loss: 0.2181 - accuracy: 0.9700\n",
      "Epoch 193/500\n",
      "32/32 [==============================] - 0s 2ms/step - loss: 0.2172 - accuracy: 0.9700\n",
      "Epoch 194/500\n",
      "32/32 [==============================] - 0s 2ms/step - loss: 0.2164 - accuracy: 0.9700\n",
      "Epoch 195/500\n",
      "32/32 [==============================] - 0s 2ms/step - loss: 0.2155 - accuracy: 0.9700\n",
      "Epoch 196/500\n",
      "32/32 [==============================] - 0s 2ms/step - loss: 0.2147 - accuracy: 0.9710\n",
      "Epoch 197/500\n",
      "32/32 [==============================] - 0s 2ms/step - loss: 0.2139 - accuracy: 0.9700\n",
      "Epoch 198/500\n",
      "32/32 [==============================] - 0s 2ms/step - loss: 0.2131 - accuracy: 0.9700\n",
      "Epoch 199/500\n",
      "32/32 [==============================] - 0s 2ms/step - loss: 0.2122 - accuracy: 0.9700\n",
      "Epoch 200/500\n",
      "32/32 [==============================] - 0s 2ms/step - loss: 0.2114 - accuracy: 0.9700\n",
      "Epoch 201/500\n",
      "32/32 [==============================] - 0s 2ms/step - loss: 0.2106 - accuracy: 0.9700\n",
      "Epoch 202/500\n",
      "32/32 [==============================] - 0s 2ms/step - loss: 0.2098 - accuracy: 0.9700\n",
      "Epoch 203/500\n",
      "32/32 [==============================] - 0s 2ms/step - loss: 0.2090 - accuracy: 0.9710\n",
      "Epoch 204/500\n",
      "32/32 [==============================] - 0s 3ms/step - loss: 0.2082 - accuracy: 0.9720\n",
      "Epoch 205/500\n",
      "32/32 [==============================] - 0s 2ms/step - loss: 0.2075 - accuracy: 0.9720\n",
      "Epoch 206/500\n",
      "32/32 [==============================] - 0s 2ms/step - loss: 0.2067 - accuracy: 0.9720\n",
      "Epoch 207/500\n",
      "32/32 [==============================] - 0s 2ms/step - loss: 0.2059 - accuracy: 0.9730\n",
      "Epoch 208/500\n",
      "32/32 [==============================] - 0s 2ms/step - loss: 0.2052 - accuracy: 0.9730\n",
      "Epoch 209/500\n",
      "32/32 [==============================] - 0s 2ms/step - loss: 0.2044 - accuracy: 0.9730\n",
      "Epoch 210/500\n",
      "32/32 [==============================] - 0s 2ms/step - loss: 0.2037 - accuracy: 0.9730\n",
      "Epoch 211/500\n",
      "32/32 [==============================] - 0s 2ms/step - loss: 0.2029 - accuracy: 0.9730\n",
      "Epoch 212/500\n",
      "32/32 [==============================] - 0s 2ms/step - loss: 0.2022 - accuracy: 0.9740\n",
      "Epoch 213/500\n",
      "32/32 [==============================] - 0s 2ms/step - loss: 0.2015 - accuracy: 0.9740\n",
      "Epoch 214/500\n",
      "32/32 [==============================] - 0s 2ms/step - loss: 0.2008 - accuracy: 0.9730\n",
      "Epoch 215/500\n",
      "32/32 [==============================] - 0s 2ms/step - loss: 0.2000 - accuracy: 0.9730\n",
      "Epoch 216/500\n",
      "32/32 [==============================] - 0s 2ms/step - loss: 0.1993 - accuracy: 0.9730\n",
      "Epoch 217/500\n",
      "32/32 [==============================] - 0s 2ms/step - loss: 0.1986 - accuracy: 0.9730\n",
      "Epoch 218/500\n",
      "32/32 [==============================] - 0s 3ms/step - loss: 0.1980 - accuracy: 0.9740\n",
      "Epoch 219/500\n",
      "32/32 [==============================] - 0s 2ms/step - loss: 0.1973 - accuracy: 0.9740\n",
      "Epoch 220/500\n",
      "32/32 [==============================] - 0s 2ms/step - loss: 0.1966 - accuracy: 0.9740\n",
      "Epoch 221/500\n",
      "32/32 [==============================] - 0s 2ms/step - loss: 0.1959 - accuracy: 0.9740\n",
      "Epoch 222/500\n",
      "32/32 [==============================] - 0s 2ms/step - loss: 0.1953 - accuracy: 0.9740\n",
      "Epoch 223/500\n",
      "32/32 [==============================] - 0s 2ms/step - loss: 0.1946 - accuracy: 0.9750\n",
      "Epoch 224/500\n",
      "32/32 [==============================] - 0s 2ms/step - loss: 0.1939 - accuracy: 0.9740\n",
      "Epoch 225/500\n",
      "32/32 [==============================] - 0s 2ms/step - loss: 0.1932 - accuracy: 0.9740\n",
      "Epoch 226/500\n",
      "32/32 [==============================] - 0s 3ms/step - loss: 0.1926 - accuracy: 0.9740\n",
      "Epoch 227/500\n",
      "32/32 [==============================] - 0s 2ms/step - loss: 0.1920 - accuracy: 0.9760\n",
      "Epoch 228/500\n",
      "32/32 [==============================] - 0s 2ms/step - loss: 0.1913 - accuracy: 0.9770\n",
      "Epoch 229/500\n",
      "32/32 [==============================] - 0s 2ms/step - loss: 0.1906 - accuracy: 0.9760\n",
      "Epoch 230/500\n",
      "32/32 [==============================] - 0s 2ms/step - loss: 0.1900 - accuracy: 0.9770\n",
      "Epoch 231/500\n",
      "32/32 [==============================] - 0s 2ms/step - loss: 0.1894 - accuracy: 0.9770\n",
      "Epoch 232/500\n",
      "32/32 [==============================] - 0s 2ms/step - loss: 0.1888 - accuracy: 0.9770\n",
      "Epoch 233/500\n",
      "32/32 [==============================] - 0s 2ms/step - loss: 0.1882 - accuracy: 0.9760\n",
      "Epoch 234/500\n",
      "32/32 [==============================] - 0s 2ms/step - loss: 0.1876 - accuracy: 0.9780\n",
      "Epoch 235/500\n",
      "32/32 [==============================] - 0s 2ms/step - loss: 0.1870 - accuracy: 0.9770\n",
      "Epoch 236/500\n",
      "32/32 [==============================] - 0s 2ms/step - loss: 0.1863 - accuracy: 0.9770\n",
      "Epoch 237/500\n",
      "32/32 [==============================] - 0s 2ms/step - loss: 0.1857 - accuracy: 0.9770\n",
      "Epoch 238/500\n",
      "32/32 [==============================] - 0s 2ms/step - loss: 0.1852 - accuracy: 0.9760\n",
      "Epoch 239/500\n",
      "32/32 [==============================] - 0s 2ms/step - loss: 0.1846 - accuracy: 0.9780\n",
      "Epoch 240/500\n",
      "32/32 [==============================] - 0s 2ms/step - loss: 0.1840 - accuracy: 0.9770\n",
      "Epoch 241/500\n",
      "32/32 [==============================] - 0s 2ms/step - loss: 0.1834 - accuracy: 0.9770\n",
      "Epoch 242/500\n",
      "32/32 [==============================] - 0s 2ms/step - loss: 0.1828 - accuracy: 0.9760\n",
      "Epoch 243/500\n",
      "32/32 [==============================] - 0s 2ms/step - loss: 0.1822 - accuracy: 0.9780\n",
      "Epoch 244/500\n",
      "32/32 [==============================] - 0s 2ms/step - loss: 0.1817 - accuracy: 0.9780\n",
      "Epoch 245/500\n",
      "32/32 [==============================] - 0s 2ms/step - loss: 0.1811 - accuracy: 0.9760\n",
      "Epoch 246/500\n",
      "32/32 [==============================] - 0s 2ms/step - loss: 0.1805 - accuracy: 0.9760\n",
      "Epoch 247/500\n",
      "32/32 [==============================] - 0s 2ms/step - loss: 0.1800 - accuracy: 0.9770\n",
      "Epoch 248/500\n",
      "32/32 [==============================] - 0s 2ms/step - loss: 0.1794 - accuracy: 0.9780\n",
      "Epoch 249/500\n",
      "32/32 [==============================] - 0s 2ms/step - loss: 0.1789 - accuracy: 0.9780\n",
      "Epoch 250/500\n",
      "32/32 [==============================] - 0s 2ms/step - loss: 0.1784 - accuracy: 0.9780\n",
      "Epoch 251/500\n",
      "32/32 [==============================] - 0s 2ms/step - loss: 0.1779 - accuracy: 0.9780\n",
      "Epoch 252/500\n",
      "32/32 [==============================] - 0s 2ms/step - loss: 0.1773 - accuracy: 0.9780\n",
      "Epoch 253/500\n",
      "32/32 [==============================] - 0s 3ms/step - loss: 0.1768 - accuracy: 0.9780\n",
      "Epoch 254/500\n",
      "32/32 [==============================] - 0s 2ms/step - loss: 0.1763 - accuracy: 0.9790\n",
      "Epoch 255/500\n",
      "32/32 [==============================] - 0s 2ms/step - loss: 0.1758 - accuracy: 0.9780\n",
      "Epoch 256/500\n",
      "32/32 [==============================] - 0s 2ms/step - loss: 0.1752 - accuracy: 0.9780\n",
      "Epoch 257/500\n",
      "32/32 [==============================] - 0s 2ms/step - loss: 0.1748 - accuracy: 0.9780\n",
      "Epoch 258/500\n",
      "32/32 [==============================] - 0s 2ms/step - loss: 0.1742 - accuracy: 0.9780\n",
      "Epoch 259/500\n",
      "32/32 [==============================] - 0s 2ms/step - loss: 0.1737 - accuracy: 0.9780\n",
      "Epoch 260/500\n",
      "32/32 [==============================] - 0s 2ms/step - loss: 0.1732 - accuracy: 0.9780\n",
      "Epoch 261/500\n",
      "32/32 [==============================] - 0s 2ms/step - loss: 0.1727 - accuracy: 0.9780\n",
      "Epoch 262/500\n",
      "32/32 [==============================] - 0s 2ms/step - loss: 0.1722 - accuracy: 0.9790\n",
      "Epoch 263/500\n",
      "32/32 [==============================] - 0s 2ms/step - loss: 0.1717 - accuracy: 0.9790\n",
      "Epoch 264/500\n",
      "32/32 [==============================] - 0s 2ms/step - loss: 0.1712 - accuracy: 0.9790\n",
      "Epoch 265/500\n",
      "32/32 [==============================] - 0s 3ms/step - loss: 0.1708 - accuracy: 0.9790\n",
      "Epoch 266/500\n",
      "32/32 [==============================] - 0s 2ms/step - loss: 0.1703 - accuracy: 0.9790\n",
      "Epoch 267/500\n",
      "32/32 [==============================] - 0s 2ms/step - loss: 0.1699 - accuracy: 0.9790\n",
      "Epoch 268/500\n",
      "32/32 [==============================] - 0s 2ms/step - loss: 0.1694 - accuracy: 0.9790\n",
      "Epoch 269/500\n",
      "32/32 [==============================] - 0s 2ms/step - loss: 0.1689 - accuracy: 0.9790\n",
      "Epoch 270/500\n",
      "32/32 [==============================] - 0s 2ms/step - loss: 0.1684 - accuracy: 0.9790\n",
      "Epoch 271/500\n",
      "32/32 [==============================] - 0s 3ms/step - loss: 0.1680 - accuracy: 0.9790\n",
      "Epoch 272/500\n",
      "32/32 [==============================] - 0s 3ms/step - loss: 0.1675 - accuracy: 0.9790\n",
      "Epoch 273/500\n",
      "32/32 [==============================] - 0s 2ms/step - loss: 0.1671 - accuracy: 0.9790\n",
      "Epoch 274/500\n",
      "32/32 [==============================] - 0s 2ms/step - loss: 0.1666 - accuracy: 0.9790\n",
      "Epoch 275/500\n",
      "32/32 [==============================] - 0s 2ms/step - loss: 0.1662 - accuracy: 0.9790\n",
      "Epoch 276/500\n",
      "32/32 [==============================] - 0s 2ms/step - loss: 0.1658 - accuracy: 0.9790\n",
      "Epoch 277/500\n",
      "32/32 [==============================] - 0s 2ms/step - loss: 0.1653 - accuracy: 0.9790\n",
      "Epoch 278/500\n",
      "32/32 [==============================] - 0s 2ms/step - loss: 0.1648 - accuracy: 0.9800\n",
      "Epoch 279/500\n",
      "32/32 [==============================] - 0s 2ms/step - loss: 0.1644 - accuracy: 0.9800\n",
      "Epoch 280/500\n",
      "32/32 [==============================] - 0s 2ms/step - loss: 0.1639 - accuracy: 0.9800\n",
      "Epoch 281/500\n",
      "32/32 [==============================] - 0s 2ms/step - loss: 0.1635 - accuracy: 0.9800\n",
      "Epoch 282/500\n",
      "32/32 [==============================] - 0s 2ms/step - loss: 0.1631 - accuracy: 0.9790\n",
      "Epoch 283/500\n",
      "32/32 [==============================] - 0s 2ms/step - loss: 0.1627 - accuracy: 0.9800\n",
      "Epoch 284/500\n",
      "32/32 [==============================] - 0s 2ms/step - loss: 0.1622 - accuracy: 0.9810\n",
      "Epoch 285/500\n",
      "32/32 [==============================] - 0s 2ms/step - loss: 0.1618 - accuracy: 0.9810\n",
      "Epoch 286/500\n",
      "32/32 [==============================] - 0s 2ms/step - loss: 0.1614 - accuracy: 0.9800\n",
      "Epoch 287/500\n",
      "32/32 [==============================] - 0s 2ms/step - loss: 0.1610 - accuracy: 0.9810\n",
      "Epoch 288/500\n",
      "32/32 [==============================] - 0s 3ms/step - loss: 0.1606 - accuracy: 0.9810\n",
      "Epoch 289/500\n",
      "32/32 [==============================] - 0s 2ms/step - loss: 0.1601 - accuracy: 0.9810\n",
      "Epoch 290/500\n",
      "32/32 [==============================] - 0s 2ms/step - loss: 0.1598 - accuracy: 0.9800\n",
      "Epoch 291/500\n",
      "32/32 [==============================] - 0s 2ms/step - loss: 0.1594 - accuracy: 0.9810\n",
      "Epoch 292/500\n",
      "32/32 [==============================] - 0s 3ms/step - loss: 0.1590 - accuracy: 0.9800\n",
      "Epoch 293/500\n",
      "32/32 [==============================] - 0s 2ms/step - loss: 0.1586 - accuracy: 0.9820\n",
      "Epoch 294/500\n",
      "32/32 [==============================] - 0s 2ms/step - loss: 0.1582 - accuracy: 0.9820\n",
      "Epoch 295/500\n",
      "32/32 [==============================] - 0s 2ms/step - loss: 0.1578 - accuracy: 0.9810\n",
      "Epoch 296/500\n",
      "32/32 [==============================] - 0s 2ms/step - loss: 0.1574 - accuracy: 0.9810\n",
      "Epoch 297/500\n",
      "32/32 [==============================] - 0s 2ms/step - loss: 0.1570 - accuracy: 0.9810\n",
      "Epoch 298/500\n",
      "32/32 [==============================] - 0s 2ms/step - loss: 0.1566 - accuracy: 0.9810\n",
      "Epoch 299/500\n",
      "32/32 [==============================] - 0s 2ms/step - loss: 0.1563 - accuracy: 0.9820\n",
      "Epoch 300/500\n",
      "32/32 [==============================] - 0s 2ms/step - loss: 0.1559 - accuracy: 0.9810\n",
      "Epoch 301/500\n",
      "32/32 [==============================] - 0s 2ms/step - loss: 0.1555 - accuracy: 0.9810\n",
      "Epoch 302/500\n",
      "32/32 [==============================] - 0s 2ms/step - loss: 0.1551 - accuracy: 0.9810\n",
      "Epoch 303/500\n",
      "32/32 [==============================] - 0s 3ms/step - loss: 0.1547 - accuracy: 0.9820\n",
      "Epoch 304/500\n",
      "32/32 [==============================] - 0s 2ms/step - loss: 0.1543 - accuracy: 0.9820\n",
      "Epoch 305/500\n",
      "32/32 [==============================] - 0s 2ms/step - loss: 0.1540 - accuracy: 0.9810\n",
      "Epoch 306/500\n",
      "32/32 [==============================] - 0s 2ms/step - loss: 0.1537 - accuracy: 0.9820\n",
      "Epoch 307/500\n",
      "32/32 [==============================] - 0s 2ms/step - loss: 0.1533 - accuracy: 0.9820\n",
      "Epoch 308/500\n",
      "32/32 [==============================] - 0s 2ms/step - loss: 0.1529 - accuracy: 0.9820\n",
      "Epoch 309/500\n",
      "32/32 [==============================] - 0s 3ms/step - loss: 0.1525 - accuracy: 0.9820\n",
      "Epoch 310/500\n",
      "32/32 [==============================] - 0s 2ms/step - loss: 0.1522 - accuracy: 0.9820\n",
      "Epoch 311/500\n",
      "32/32 [==============================] - 0s 2ms/step - loss: 0.1518 - accuracy: 0.9820\n",
      "Epoch 312/500\n",
      "32/32 [==============================] - 0s 3ms/step - loss: 0.1515 - accuracy: 0.9820\n",
      "Epoch 313/500\n",
      "32/32 [==============================] - 0s 2ms/step - loss: 0.1511 - accuracy: 0.9820\n",
      "Epoch 314/500\n",
      "32/32 [==============================] - 0s 2ms/step - loss: 0.1508 - accuracy: 0.9820\n",
      "Epoch 315/500\n",
      "32/32 [==============================] - 0s 2ms/step - loss: 0.1504 - accuracy: 0.9820\n",
      "Epoch 316/500\n",
      "32/32 [==============================] - 0s 3ms/step - loss: 0.1501 - accuracy: 0.9820\n",
      "Epoch 317/500\n",
      "32/32 [==============================] - 0s 3ms/step - loss: 0.1497 - accuracy: 0.9820\n",
      "Epoch 318/500\n",
      "32/32 [==============================] - 0s 2ms/step - loss: 0.1494 - accuracy: 0.9820\n",
      "Epoch 319/500\n",
      "32/32 [==============================] - 0s 3ms/step - loss: 0.1491 - accuracy: 0.9820\n",
      "Epoch 320/500\n",
      "32/32 [==============================] - 0s 2ms/step - loss: 0.1487 - accuracy: 0.9820\n",
      "Epoch 321/500\n",
      "32/32 [==============================] - 0s 2ms/step - loss: 0.1484 - accuracy: 0.9820\n",
      "Epoch 322/500\n",
      "32/32 [==============================] - 0s 2ms/step - loss: 0.1480 - accuracy: 0.9820\n",
      "Epoch 323/500\n",
      "32/32 [==============================] - 0s 2ms/step - loss: 0.1477 - accuracy: 0.9820\n",
      "Epoch 324/500\n",
      "32/32 [==============================] - 0s 2ms/step - loss: 0.1474 - accuracy: 0.9820\n",
      "Epoch 325/500\n",
      "32/32 [==============================] - 0s 4ms/step - loss: 0.1471 - accuracy: 0.9820\n",
      "Epoch 326/500\n",
      "32/32 [==============================] - 0s 3ms/step - loss: 0.1467 - accuracy: 0.9820\n",
      "Epoch 327/500\n",
      "32/32 [==============================] - 0s 2ms/step - loss: 0.1464 - accuracy: 0.9820\n",
      "Epoch 328/500\n",
      "32/32 [==============================] - 0s 2ms/step - loss: 0.1462 - accuracy: 0.9820\n",
      "Epoch 329/500\n",
      "32/32 [==============================] - 0s 2ms/step - loss: 0.1458 - accuracy: 0.9820\n",
      "Epoch 330/500\n",
      "32/32 [==============================] - 0s 2ms/step - loss: 0.1455 - accuracy: 0.9820\n",
      "Epoch 331/500\n",
      "32/32 [==============================] - 0s 2ms/step - loss: 0.1452 - accuracy: 0.9820\n",
      "Epoch 332/500\n",
      "32/32 [==============================] - 0s 2ms/step - loss: 0.1449 - accuracy: 0.9820\n",
      "Epoch 333/500\n",
      "32/32 [==============================] - 0s 2ms/step - loss: 0.1445 - accuracy: 0.9820\n",
      "Epoch 334/500\n",
      "32/32 [==============================] - 0s 2ms/step - loss: 0.1443 - accuracy: 0.9820\n",
      "Epoch 335/500\n",
      "32/32 [==============================] - 0s 2ms/step - loss: 0.1440 - accuracy: 0.9820\n",
      "Epoch 336/500\n",
      "32/32 [==============================] - 0s 2ms/step - loss: 0.1437 - accuracy: 0.9820\n",
      "Epoch 337/500\n",
      "32/32 [==============================] - 0s 2ms/step - loss: 0.1434 - accuracy: 0.9820\n",
      "Epoch 338/500\n",
      "32/32 [==============================] - 0s 2ms/step - loss: 0.1431 - accuracy: 0.9820\n",
      "Epoch 339/500\n",
      "32/32 [==============================] - 0s 2ms/step - loss: 0.1428 - accuracy: 0.9820\n",
      "Epoch 340/500\n",
      "32/32 [==============================] - 0s 2ms/step - loss: 0.1425 - accuracy: 0.9820\n",
      "Epoch 341/500\n",
      "32/32 [==============================] - 0s 2ms/step - loss: 0.1422 - accuracy: 0.9820\n",
      "Epoch 342/500\n",
      "32/32 [==============================] - 0s 2ms/step - loss: 0.1419 - accuracy: 0.9820\n",
      "Epoch 343/500\n",
      "32/32 [==============================] - 0s 2ms/step - loss: 0.1416 - accuracy: 0.9820\n",
      "Epoch 344/500\n",
      "32/32 [==============================] - 0s 2ms/step - loss: 0.1413 - accuracy: 0.9820\n",
      "Epoch 345/500\n",
      "32/32 [==============================] - 0s 2ms/step - loss: 0.1410 - accuracy: 0.9820\n",
      "Epoch 346/500\n",
      "32/32 [==============================] - 0s 2ms/step - loss: 0.1408 - accuracy: 0.9820\n",
      "Epoch 347/500\n",
      "32/32 [==============================] - 0s 2ms/step - loss: 0.1405 - accuracy: 0.9820\n",
      "Epoch 348/500\n",
      "32/32 [==============================] - 0s 2ms/step - loss: 0.1402 - accuracy: 0.9820\n",
      "Epoch 349/500\n",
      "32/32 [==============================] - 0s 2ms/step - loss: 0.1399 - accuracy: 0.9820\n",
      "Epoch 350/500\n",
      "32/32 [==============================] - 0s 2ms/step - loss: 0.1396 - accuracy: 0.9820\n",
      "Epoch 351/500\n",
      "32/32 [==============================] - 0s 2ms/step - loss: 0.1394 - accuracy: 0.9820\n",
      "Epoch 352/500\n",
      "32/32 [==============================] - 0s 2ms/step - loss: 0.1391 - accuracy: 0.9820\n",
      "Epoch 353/500\n",
      "32/32 [==============================] - 0s 2ms/step - loss: 0.1388 - accuracy: 0.9820\n",
      "Epoch 354/500\n",
      "32/32 [==============================] - 0s 2ms/step - loss: 0.1386 - accuracy: 0.9820\n",
      "Epoch 355/500\n",
      "32/32 [==============================] - 0s 2ms/step - loss: 0.1383 - accuracy: 0.9820\n",
      "Epoch 356/500\n",
      "32/32 [==============================] - 0s 3ms/step - loss: 0.1381 - accuracy: 0.9820\n",
      "Epoch 357/500\n",
      "32/32 [==============================] - 0s 2ms/step - loss: 0.1378 - accuracy: 0.9820\n",
      "Epoch 358/500\n",
      "32/32 [==============================] - 0s 2ms/step - loss: 0.1375 - accuracy: 0.9820\n",
      "Epoch 359/500\n",
      "32/32 [==============================] - 0s 2ms/step - loss: 0.1372 - accuracy: 0.9820\n",
      "Epoch 360/500\n",
      "32/32 [==============================] - 0s 2ms/step - loss: 0.1370 - accuracy: 0.9820\n",
      "Epoch 361/500\n",
      "32/32 [==============================] - 0s 2ms/step - loss: 0.1367 - accuracy: 0.9820\n",
      "Epoch 362/500\n",
      "32/32 [==============================] - 0s 2ms/step - loss: 0.1365 - accuracy: 0.9820\n",
      "Epoch 363/500\n",
      "32/32 [==============================] - 0s 2ms/step - loss: 0.1362 - accuracy: 0.9820\n",
      "Epoch 364/500\n",
      "32/32 [==============================] - 0s 2ms/step - loss: 0.1360 - accuracy: 0.9820\n",
      "Epoch 365/500\n",
      "32/32 [==============================] - 0s 2ms/step - loss: 0.1357 - accuracy: 0.9820\n",
      "Epoch 366/500\n",
      "32/32 [==============================] - 0s 3ms/step - loss: 0.1355 - accuracy: 0.9820\n",
      "Epoch 367/500\n",
      "32/32 [==============================] - 0s 2ms/step - loss: 0.1352 - accuracy: 0.9820\n",
      "Epoch 368/500\n",
      "32/32 [==============================] - 0s 2ms/step - loss: 0.1349 - accuracy: 0.9820\n",
      "Epoch 369/500\n",
      "32/32 [==============================] - 0s 2ms/step - loss: 0.1347 - accuracy: 0.9820\n",
      "Epoch 370/500\n",
      "32/32 [==============================] - 0s 2ms/step - loss: 0.1345 - accuracy: 0.9820\n",
      "Epoch 371/500\n",
      "32/32 [==============================] - 0s 2ms/step - loss: 0.1342 - accuracy: 0.9820\n",
      "Epoch 372/500\n",
      "32/32 [==============================] - 0s 2ms/step - loss: 0.1340 - accuracy: 0.9820\n",
      "Epoch 373/500\n",
      "32/32 [==============================] - 0s 3ms/step - loss: 0.1337 - accuracy: 0.9820\n",
      "Epoch 374/500\n",
      "32/32 [==============================] - 0s 2ms/step - loss: 0.1335 - accuracy: 0.9820\n",
      "Epoch 375/500\n",
      "32/32 [==============================] - 0s 2ms/step - loss: 0.1332 - accuracy: 0.9820\n",
      "Epoch 376/500\n",
      "32/32 [==============================] - 0s 2ms/step - loss: 0.1330 - accuracy: 0.9820\n",
      "Epoch 377/500\n",
      "32/32 [==============================] - 0s 2ms/step - loss: 0.1328 - accuracy: 0.9820\n",
      "Epoch 378/500\n",
      "32/32 [==============================] - 0s 2ms/step - loss: 0.1325 - accuracy: 0.9820\n",
      "Epoch 379/500\n",
      "32/32 [==============================] - 0s 2ms/step - loss: 0.1323 - accuracy: 0.9820\n",
      "Epoch 380/500\n",
      "32/32 [==============================] - 0s 2ms/step - loss: 0.1320 - accuracy: 0.9820\n",
      "Epoch 381/500\n",
      "32/32 [==============================] - 0s 2ms/step - loss: 0.1318 - accuracy: 0.9820\n",
      "Epoch 382/500\n",
      "32/32 [==============================] - 0s 2ms/step - loss: 0.1316 - accuracy: 0.9820\n",
      "Epoch 383/500\n",
      "32/32 [==============================] - 0s 2ms/step - loss: 0.1313 - accuracy: 0.9820\n",
      "Epoch 384/500\n",
      "32/32 [==============================] - 0s 3ms/step - loss: 0.1311 - accuracy: 0.9820\n",
      "Epoch 385/500\n",
      "32/32 [==============================] - 0s 2ms/step - loss: 0.1309 - accuracy: 0.9820\n",
      "Epoch 386/500\n",
      "32/32 [==============================] - 0s 2ms/step - loss: 0.1307 - accuracy: 0.9820\n",
      "Epoch 387/500\n",
      "32/32 [==============================] - 0s 3ms/step - loss: 0.1305 - accuracy: 0.9820\n",
      "Epoch 388/500\n",
      "32/32 [==============================] - 0s 2ms/step - loss: 0.1302 - accuracy: 0.9820\n",
      "Epoch 389/500\n",
      "32/32 [==============================] - 0s 2ms/step - loss: 0.1300 - accuracy: 0.9820\n",
      "Epoch 390/500\n",
      "32/32 [==============================] - 0s 3ms/step - loss: 0.1298 - accuracy: 0.9830\n",
      "Epoch 391/500\n",
      "32/32 [==============================] - 0s 2ms/step - loss: 0.1296 - accuracy: 0.9840\n",
      "Epoch 392/500\n",
      "32/32 [==============================] - 0s 2ms/step - loss: 0.1294 - accuracy: 0.9820\n",
      "Epoch 393/500\n",
      "32/32 [==============================] - 0s 2ms/step - loss: 0.1291 - accuracy: 0.9820\n",
      "Epoch 394/500\n",
      "32/32 [==============================] - 0s 2ms/step - loss: 0.1289 - accuracy: 0.9820\n",
      "Epoch 395/500\n",
      "32/32 [==============================] - 0s 2ms/step - loss: 0.1287 - accuracy: 0.9820\n",
      "Epoch 396/500\n",
      "32/32 [==============================] - 0s 2ms/step - loss: 0.1285 - accuracy: 0.9820\n",
      "Epoch 397/500\n",
      "32/32 [==============================] - 0s 2ms/step - loss: 0.1283 - accuracy: 0.9830\n",
      "Epoch 398/500\n",
      "32/32 [==============================] - 0s 2ms/step - loss: 0.1281 - accuracy: 0.9830\n",
      "Epoch 399/500\n",
      "32/32 [==============================] - 0s 2ms/step - loss: 0.1278 - accuracy: 0.9830\n",
      "Epoch 400/500\n",
      "32/32 [==============================] - 0s 2ms/step - loss: 0.1277 - accuracy: 0.9820\n",
      "Epoch 401/500\n",
      "32/32 [==============================] - 0s 2ms/step - loss: 0.1274 - accuracy: 0.9820\n",
      "Epoch 402/500\n",
      "32/32 [==============================] - 0s 2ms/step - loss: 0.1273 - accuracy: 0.9820\n",
      "Epoch 403/500\n",
      "32/32 [==============================] - 0s 2ms/step - loss: 0.1271 - accuracy: 0.9820\n",
      "Epoch 404/500\n",
      "32/32 [==============================] - 0s 2ms/step - loss: 0.1268 - accuracy: 0.9820\n",
      "Epoch 405/500\n",
      "32/32 [==============================] - 0s 2ms/step - loss: 0.1266 - accuracy: 0.9820\n",
      "Epoch 406/500\n",
      "32/32 [==============================] - 0s 2ms/step - loss: 0.1264 - accuracy: 0.9830\n",
      "Epoch 407/500\n",
      "32/32 [==============================] - 0s 2ms/step - loss: 0.1262 - accuracy: 0.9830\n",
      "Epoch 408/500\n",
      "32/32 [==============================] - 0s 2ms/step - loss: 0.1260 - accuracy: 0.9830\n",
      "Epoch 409/500\n",
      "32/32 [==============================] - 0s 2ms/step - loss: 0.1258 - accuracy: 0.9840\n",
      "Epoch 410/500\n",
      "32/32 [==============================] - 0s 2ms/step - loss: 0.1256 - accuracy: 0.9830\n",
      "Epoch 411/500\n",
      "32/32 [==============================] - 0s 2ms/step - loss: 0.1254 - accuracy: 0.9830\n",
      "Epoch 412/500\n",
      "32/32 [==============================] - 0s 2ms/step - loss: 0.1252 - accuracy: 0.9830\n",
      "Epoch 413/500\n",
      "32/32 [==============================] - 0s 3ms/step - loss: 0.1250 - accuracy: 0.9830\n",
      "Epoch 414/500\n",
      "32/32 [==============================] - 0s 2ms/step - loss: 0.1248 - accuracy: 0.9830\n",
      "Epoch 415/500\n",
      "32/32 [==============================] - 0s 2ms/step - loss: 0.1246 - accuracy: 0.9830\n",
      "Epoch 416/500\n",
      "32/32 [==============================] - 0s 2ms/step - loss: 0.1244 - accuracy: 0.9830\n",
      "Epoch 417/500\n",
      "32/32 [==============================] - 0s 2ms/step - loss: 0.1242 - accuracy: 0.9840\n",
      "Epoch 418/500\n",
      "32/32 [==============================] - 0s 3ms/step - loss: 0.1240 - accuracy: 0.9840\n",
      "Epoch 419/500\n",
      "32/32 [==============================] - 0s 2ms/step - loss: 0.1238 - accuracy: 0.9840\n",
      "Epoch 420/500\n",
      "32/32 [==============================] - 0s 2ms/step - loss: 0.1236 - accuracy: 0.9840\n",
      "Epoch 421/500\n",
      "32/32 [==============================] - 0s 2ms/step - loss: 0.1234 - accuracy: 0.9840\n",
      "Epoch 422/500\n",
      "32/32 [==============================] - 0s 3ms/step - loss: 0.1233 - accuracy: 0.9840\n",
      "Epoch 423/500\n",
      "32/32 [==============================] - 0s 2ms/step - loss: 0.1231 - accuracy: 0.9840\n",
      "Epoch 424/500\n",
      "32/32 [==============================] - 0s 2ms/step - loss: 0.1229 - accuracy: 0.9840\n",
      "Epoch 425/500\n",
      "32/32 [==============================] - 0s 3ms/step - loss: 0.1227 - accuracy: 0.9840\n",
      "Epoch 426/500\n",
      "32/32 [==============================] - 0s 2ms/step - loss: 0.1225 - accuracy: 0.9840\n",
      "Epoch 427/500\n",
      "32/32 [==============================] - 0s 2ms/step - loss: 0.1224 - accuracy: 0.9840\n",
      "Epoch 428/500\n",
      "32/32 [==============================] - 0s 2ms/step - loss: 0.1221 - accuracy: 0.9840\n",
      "Epoch 429/500\n",
      "32/32 [==============================] - 0s 2ms/step - loss: 0.1219 - accuracy: 0.9840\n",
      "Epoch 430/500\n",
      "32/32 [==============================] - 0s 2ms/step - loss: 0.1218 - accuracy: 0.9840\n",
      "Epoch 431/500\n",
      "32/32 [==============================] - 0s 2ms/step - loss: 0.1216 - accuracy: 0.9830\n",
      "Epoch 432/500\n",
      "32/32 [==============================] - 0s 2ms/step - loss: 0.1214 - accuracy: 0.9830\n",
      "Epoch 433/500\n",
      "32/32 [==============================] - 0s 2ms/step - loss: 0.1212 - accuracy: 0.9840\n",
      "Epoch 434/500\n",
      "32/32 [==============================] - 0s 2ms/step - loss: 0.1211 - accuracy: 0.9840\n",
      "Epoch 435/500\n",
      "32/32 [==============================] - 0s 2ms/step - loss: 0.1209 - accuracy: 0.9840\n",
      "Epoch 436/500\n",
      "32/32 [==============================] - 0s 2ms/step - loss: 0.1207 - accuracy: 0.9840\n",
      "Epoch 437/500\n",
      "32/32 [==============================] - 0s 2ms/step - loss: 0.1205 - accuracy: 0.9840\n",
      "Epoch 438/500\n",
      "32/32 [==============================] - 0s 2ms/step - loss: 0.1204 - accuracy: 0.9840\n",
      "Epoch 439/500\n",
      "32/32 [==============================] - 0s 2ms/step - loss: 0.1202 - accuracy: 0.9840\n",
      "Epoch 440/500\n",
      "32/32 [==============================] - 0s 2ms/step - loss: 0.1200 - accuracy: 0.9840\n",
      "Epoch 441/500\n",
      "32/32 [==============================] - 0s 2ms/step - loss: 0.1199 - accuracy: 0.9830\n",
      "Epoch 442/500\n",
      "32/32 [==============================] - 0s 2ms/step - loss: 0.1197 - accuracy: 0.9840\n",
      "Epoch 443/500\n",
      "32/32 [==============================] - 0s 2ms/step - loss: 0.1195 - accuracy: 0.9840\n",
      "Epoch 444/500\n",
      "32/32 [==============================] - 0s 2ms/step - loss: 0.1193 - accuracy: 0.9840\n",
      "Epoch 445/500\n",
      "32/32 [==============================] - 0s 3ms/step - loss: 0.1191 - accuracy: 0.9840\n",
      "Epoch 446/500\n",
      "32/32 [==============================] - 0s 2ms/step - loss: 0.1190 - accuracy: 0.9840\n",
      "Epoch 447/500\n",
      "32/32 [==============================] - 0s 4ms/step - loss: 0.1188 - accuracy: 0.9840\n",
      "Epoch 448/500\n",
      "32/32 [==============================] - 0s 2ms/step - loss: 0.1186 - accuracy: 0.9840\n",
      "Epoch 449/500\n",
      "32/32 [==============================] - 0s 2ms/step - loss: 0.1185 - accuracy: 0.9840\n",
      "Epoch 450/500\n",
      "32/32 [==============================] - 0s 2ms/step - loss: 0.1183 - accuracy: 0.9840\n",
      "Epoch 451/500\n",
      "32/32 [==============================] - 0s 2ms/step - loss: 0.1182 - accuracy: 0.9840\n",
      "Epoch 452/500\n",
      "32/32 [==============================] - 0s 2ms/step - loss: 0.1180 - accuracy: 0.9840\n",
      "Epoch 453/500\n",
      "32/32 [==============================] - 0s 2ms/step - loss: 0.1178 - accuracy: 0.9840\n",
      "Epoch 454/500\n",
      "32/32 [==============================] - 0s 2ms/step - loss: 0.1177 - accuracy: 0.9840\n",
      "Epoch 455/500\n",
      "32/32 [==============================] - 0s 2ms/step - loss: 0.1175 - accuracy: 0.9840\n",
      "Epoch 456/500\n",
      "32/32 [==============================] - 0s 2ms/step - loss: 0.1173 - accuracy: 0.9840\n",
      "Epoch 457/500\n",
      "32/32 [==============================] - 0s 2ms/step - loss: 0.1172 - accuracy: 0.9840\n",
      "Epoch 458/500\n",
      "32/32 [==============================] - 0s 2ms/step - loss: 0.1170 - accuracy: 0.9840\n",
      "Epoch 459/500\n",
      "32/32 [==============================] - 0s 2ms/step - loss: 0.1169 - accuracy: 0.9840\n",
      "Epoch 460/500\n",
      "32/32 [==============================] - 0s 2ms/step - loss: 0.1167 - accuracy: 0.9840\n",
      "Epoch 461/500\n",
      "32/32 [==============================] - 0s 2ms/step - loss: 0.1165 - accuracy: 0.9840\n",
      "Epoch 462/500\n",
      "32/32 [==============================] - 0s 2ms/step - loss: 0.1164 - accuracy: 0.9840\n",
      "Epoch 463/500\n",
      "32/32 [==============================] - 0s 2ms/step - loss: 0.1162 - accuracy: 0.9840\n",
      "Epoch 464/500\n",
      "32/32 [==============================] - 0s 2ms/step - loss: 0.1161 - accuracy: 0.9840\n",
      "Epoch 465/500\n",
      "32/32 [==============================] - 0s 3ms/step - loss: 0.1159 - accuracy: 0.9840\n",
      "Epoch 466/500\n",
      "32/32 [==============================] - 0s 2ms/step - loss: 0.1157 - accuracy: 0.9840\n",
      "Epoch 467/500\n",
      "32/32 [==============================] - 0s 2ms/step - loss: 0.1156 - accuracy: 0.9840\n",
      "Epoch 468/500\n",
      "32/32 [==============================] - 0s 2ms/step - loss: 0.1154 - accuracy: 0.9840\n",
      "Epoch 469/500\n",
      "32/32 [==============================] - 0s 3ms/step - loss: 0.1153 - accuracy: 0.9840\n",
      "Epoch 470/500\n",
      "32/32 [==============================] - 0s 2ms/step - loss: 0.1151 - accuracy: 0.9840\n",
      "Epoch 471/500\n",
      "32/32 [==============================] - 0s 2ms/step - loss: 0.1150 - accuracy: 0.9840\n",
      "Epoch 472/500\n",
      "32/32 [==============================] - 0s 2ms/step - loss: 0.1148 - accuracy: 0.9840\n",
      "Epoch 473/500\n",
      "32/32 [==============================] - 0s 2ms/step - loss: 0.1147 - accuracy: 0.9840\n",
      "Epoch 474/500\n",
      "32/32 [==============================] - 0s 2ms/step - loss: 0.1145 - accuracy: 0.9840\n",
      "Epoch 475/500\n",
      "32/32 [==============================] - 0s 2ms/step - loss: 0.1144 - accuracy: 0.9840\n",
      "Epoch 476/500\n",
      "32/32 [==============================] - 0s 2ms/step - loss: 0.1142 - accuracy: 0.9840\n",
      "Epoch 477/500\n",
      "32/32 [==============================] - 0s 2ms/step - loss: 0.1141 - accuracy: 0.9850\n",
      "Epoch 478/500\n",
      "32/32 [==============================] - 0s 2ms/step - loss: 0.1139 - accuracy: 0.9850\n",
      "Epoch 479/500\n",
      "32/32 [==============================] - 0s 2ms/step - loss: 0.1138 - accuracy: 0.9850\n",
      "Epoch 480/500\n",
      "32/32 [==============================] - 0s 2ms/step - loss: 0.1136 - accuracy: 0.9850\n",
      "Epoch 481/500\n",
      "32/32 [==============================] - 0s 2ms/step - loss: 0.1135 - accuracy: 0.9850\n",
      "Epoch 482/500\n",
      "32/32 [==============================] - 0s 2ms/step - loss: 0.1133 - accuracy: 0.9850\n",
      "Epoch 483/500\n",
      "32/32 [==============================] - 0s 2ms/step - loss: 0.1132 - accuracy: 0.9850\n",
      "Epoch 484/500\n",
      "32/32 [==============================] - 0s 3ms/step - loss: 0.1131 - accuracy: 0.9850\n",
      "Epoch 485/500\n",
      "32/32 [==============================] - 0s 2ms/step - loss: 0.1129 - accuracy: 0.9840\n",
      "Epoch 486/500\n",
      "32/32 [==============================] - 0s 2ms/step - loss: 0.1128 - accuracy: 0.9850\n",
      "Epoch 487/500\n",
      "32/32 [==============================] - 0s 2ms/step - loss: 0.1126 - accuracy: 0.9850\n",
      "Epoch 488/500\n",
      "32/32 [==============================] - 0s 2ms/step - loss: 0.1125 - accuracy: 0.9850\n",
      "Epoch 489/500\n",
      "32/32 [==============================] - 0s 2ms/step - loss: 0.1123 - accuracy: 0.9850\n",
      "Epoch 490/500\n",
      "32/32 [==============================] - 0s 2ms/step - loss: 0.1122 - accuracy: 0.9850\n",
      "Epoch 491/500\n",
      "32/32 [==============================] - 0s 2ms/step - loss: 0.1120 - accuracy: 0.9850\n",
      "Epoch 492/500\n",
      "32/32 [==============================] - 0s 2ms/step - loss: 0.1119 - accuracy: 0.9850\n",
      "Epoch 493/500\n",
      "32/32 [==============================] - 0s 2ms/step - loss: 0.1117 - accuracy: 0.9850\n",
      "Epoch 494/500\n",
      "32/32 [==============================] - 0s 2ms/step - loss: 0.1116 - accuracy: 0.9850\n",
      "Epoch 495/500\n",
      "32/32 [==============================] - 0s 2ms/step - loss: 0.1115 - accuracy: 0.9850\n",
      "Epoch 496/500\n",
      "32/32 [==============================] - 0s 3ms/step - loss: 0.1113 - accuracy: 0.9850\n",
      "Epoch 497/500\n",
      "32/32 [==============================] - 0s 3ms/step - loss: 0.1112 - accuracy: 0.9850\n",
      "Epoch 498/500\n",
      "32/32 [==============================] - 0s 2ms/step - loss: 0.1111 - accuracy: 0.9850\n",
      "Epoch 499/500\n",
      "32/32 [==============================] - 0s 2ms/step - loss: 0.1109 - accuracy: 0.9850\n",
      "Epoch 500/500\n",
      "32/32 [==============================] - 0s 2ms/step - loss: 0.1108 - accuracy: 0.9850\n"
     ]
    },
    {
     "data": {
      "text/plain": [
       "<keras.callbacks.History at 0x2aa3f68ab90>"
      ]
     },
     "execution_count": 8,
     "metadata": {},
     "output_type": "execute_result"
    }
   ],
   "source": [
    "import tensorflow as tf #import tensorflow\n",
    "\n",
    "modelSLP3 = tf.keras.Sequential() #create sequential model\n",
    "\n",
    "#add layer with 3 outputs and softmax activation\n",
    "modelSLP3.add(tf.keras.layers.Dense(3,activation='softmax'))\n",
    "\n",
    "#compile model, SparseCategoricalCrossentropy is used as a loss\n",
    "modelSLP3.compile(optimizer='adam',\n",
    "              loss=tf.keras.losses.SparseCategoricalCrossentropy(),\n",
    "              metrics='accuracy')\n",
    "\n",
    "#train the model for 100 epochs using the training data\n",
    "modelSLP3.fit(x3, labels3, epochs=500)"
   ]
  },
  {
   "cell_type": "markdown",
   "id": "1024856e",
   "metadata": {
    "slideshow": {
     "slide_type": "subslide"
    }
   },
   "source": [
    "#### Confusion matrix\n",
    "\n",
    "Results can be visualised through a confusion matrix, using the same commands as shown last week. Notice that the `argmax` function is used to convert predicted probabilities to class labels:"
   ]
  },
  {
   "cell_type": "code",
   "execution_count": 9,
   "id": "e69dc176",
   "metadata": {
    "slideshow": {
     "slide_type": "subslide"
    }
   },
   "outputs": [
    {
     "data": {
      "text/plain": [
       "<sklearn.metrics._plot.confusion_matrix.ConfusionMatrixDisplay at 0x2aa3fcff070>"
      ]
     },
     "execution_count": 9,
     "metadata": {},
     "output_type": "execute_result"
    },
    {
     "data": {
      "image/png": "[encoded data removed]",
      "text/plain": [
       "<Figure size 432x288 with 2 Axes>"
      ]
     },
     "metadata": {
      "needs_background": "light"
     },
     "output_type": "display_data"
    }
   ],
   "source": [
    "from sklearn.metrics import confusion_matrix, ConfusionMatrixDisplay #import confusion matrix related classes\n",
    "\n",
    "#use model to predict the labels of the training data as probabilities and convert to integers\n",
    "labelsPred = modelSLP3.predict(x3)\n",
    "labelsPred = np.argmax(labelsPred,axis=1)\n",
    "\n",
    "\n",
    "#create confusion matrix\n",
    "confusionMatrix3=confusion_matrix(labels3,labelsPred)\n",
    "\n",
    "#create and show confusion matrix plot\n",
    "confusionMatrixPlot3 = ConfusionMatrixDisplay(confusion_matrix=confusionMatrix3)\n",
    "confusionMatrixPlot3.plot()"
   ]
  },
  {
   "cell_type": "markdown",
   "id": "4325f86c",
   "metadata": {
    "slideshow": {
     "slide_type": "subslide"
    }
   },
   "source": [
    "#### Visualising the decision boundary\n",
    "\n",
    "To better understand the properties of the created models, it can be helpful to visualise the boundaries between classes, also termed 'decision boundaries'. To this end we will use the following function, which is a slightly modified version of the one provided in [Jon Charests'notebook](https://jonchar.net/notebooks/Artificial-Neural-Network-with-Keras/):"
   ]
  },
  {
   "cell_type": "code",
   "execution_count": 10,
   "id": "de6e1279",
   "metadata": {
    "slideshow": {
     "slide_type": "subslide"
    }
   },
   "outputs": [],
   "source": [
    "def plotDecisionBoundary(model,limx=[-1,1],limy=[-1,1],resolution=200, colormap = 'RdBu'):\n",
    "    '''Function to plot the decision boundary of a tensorflow model as a contour plot.\n",
    "       model is the model, which should have a predict method\n",
    "       limx, limy are the limits of the plot in x and y\n",
    "       resolution is the resolution of the plot in terms of the number of points used per direction\n",
    "       colormap is the colormap to be used for the contour plot\n",
    "       The function returns a figure and an axis object'''\n",
    "    \n",
    "    #create figure\n",
    "    fig,ax = plt.subplots(1,1)\n",
    "    \n",
    "    #create linspaces with the x and y coordinates of the points to be used for the contour plot\n",
    "    #the limits and resolution are set to the user provided values\n",
    "    xPoints = np.linspace(limx[0], limx[1], resolution)\n",
    "    yPoints = np.linspace(limy[0], limy[1], resolution)\n",
    "    \n",
    "    #create a meshgrid from the provided\n",
    "    xx, yy = np.meshgrid(xPoints, yPoints)\n",
    "    \n",
    "    #use model to predict the labels of the generated points\n",
    "    #ravel and c_ are used to bring the coordinates in the correct shape\n",
    "    modelPred = model.predict(np.c_[xx.ravel(), yy.ravel()])\n",
    "    \n",
    "    #check shape of the output, if the output is twodimensional and the size in the second dimension is more than 1\n",
    "    #then the ouput is assumed to be provided in terms of probabilities and is converted to class indices using the argmax function\n",
    "    if len(modelPred.shape)==2 and modelPred.shape[1]!=1:\n",
    "        modelPred = np.argmax(modelPred,axis=1)\n",
    "    else:\n",
    "    #if the output is either onedimensional or the second dimension has size one, \n",
    "    #then it is assumed to be labels for binary classification and a 0.5 threshold is applied to convert to binary format\n",
    "        modelPred = modelPred>0.5\n",
    "    \n",
    "    #reshape the labels to the shape of xx and yy so that they can be used for a contour plot\n",
    "    z = modelPred.reshape(xx.shape)\n",
    "\n",
    "    #create contour plot\n",
    "    ax.contourf(xx,yy,z,cmap=colormap,alpha=0.5)\n",
    "    \n",
    "    #return figure and axis\n",
    "    return fig,ax"
   ]
  },
  {
   "cell_type": "markdown",
   "id": "625d2ace",
   "metadata": {
    "slideshow": {
     "slide_type": "subslide"
    }
   },
   "source": [
    "The function can be used to plot the decision boundary of the model, along with the points corresponding to the different classes as:"
   ]
  },
  {
   "cell_type": "code",
   "execution_count": 11,
   "id": "7ad33dc5",
   "metadata": {
    "slideshow": {
     "slide_type": "subslide"
    }
   },
   "outputs": [
    {
     "data": {
      "text/plain": [
       "[<matplotlib.lines.Line2D at 0x2aa42543a00>]"
      ]
     },
     "execution_count": 11,
     "metadata": {},
     "output_type": "execute_result"
    },
    {
     "data": {
      "image/png": "[encoded data removed]",
      "text/plain": [
       "<Figure size 432x288 with 1 Axes>"
      ]
     },
     "metadata": {
      "needs_background": "light"
     },
     "output_type": "display_data"
    }
   ],
   "source": [
    "#call provided function, with modelSLP3 as input\n",
    "#this creates a contour plot with different colors used for each class\n",
    "fig, ax = plotDecisionBoundary(modelSLP3)\n",
    "\n",
    "#plot points of each class using a different color\n",
    "ax.plot(x3[class0,0],x3[class0,1],'.r')\n",
    "ax.plot(x3[class1,0],x3[class1,1],'.k')\n",
    "ax.plot(x3[class2,0],x3[class2,1],'.b')"
   ]
  },
  {
   "cell_type": "markdown",
   "id": "17b2ae9c",
   "metadata": {
    "slideshow": {
     "slide_type": "slide"
    }
   },
   "source": [
    "## The Multi Layer Perceptron\n",
    "\n",
    "### Architecture\n",
    "\n",
    "The above can be further extended to create more complex architectures termed Multi Layer Perceptrons (MLPs) or feedforward neural networks. These consist of multiple layers, each similar to a SLP, placed one after the other, with the outputs of each previous layer serving as an input for the next. All layers apart from the input and output ones are termed hidden layers. In the following figure, an example of a simple such architecture, consisting of one hidden layer, in addition to the input and output layer, is illustrated:\n",
    "\n",
    "<br />\n",
    "<br />\n",
    "\n",
    "<div>\n",
    "<img src=\"./Figures/mlp1.png\" width=\"600\" align=\"center\">\n",
    "</div>\n",
    "\n",
    "Next the individual elements of a MLP are described in more detail."
   ]
  },
  {
   "cell_type": "markdown",
   "id": "d11dd8a3",
   "metadata": {
    "slideshow": {
     "slide_type": "subslide"
    }
   },
   "source": [
    "#### Inputs\n",
    "\n",
    "The multi-dimensional inputs $x_1, x_2, \\dots, x_n$ of the MLP are similar to the ones of the SLP."
   ]
  },
  {
   "cell_type": "markdown",
   "id": "6fff6b4c",
   "metadata": {
    "slideshow": {
     "slide_type": "subslide"
    }
   },
   "source": [
    "#### Hidden layers\n",
    "\n",
    "<br />\n",
    "<br />\n",
    "\n",
    "<div>\n",
    "<img src=\"./Figures/mlp_hidden_layers.png\" width=\"1000\" align=\"center\">\n",
    "    <br/><a align=\"center\">MLP with 1, 2 and 3 hidden layers respectively</a>\n",
    "</div>\n",
    "\n",
    "All layers apart from the input and output ones are termed 'hidden'. Each of the hidden layers includes a number of units, each with a set of weights and biases, as well as an activation function. As will be also mentioned later, networks with at least one hidden layer can represent nonlinear functions for regression, or nonlinear boundaries between classes for classification. However, the number of hidden layers used, can affect the properties of the network."
   ]
  },
  {
   "cell_type": "markdown",
   "id": "afd47e5f",
   "metadata": {
    "slideshow": {
     "slide_type": "subslide"
    }
   },
   "source": [
    "##### Hidden units\n",
    "\n",
    "<br />\n",
    "<br />\n",
    "\n",
    "<div>\n",
    "<img src=\"./Figures/mlp_hidden_units.png\" width=\"1000\" align=\"center\">\n",
    "    <br/><a align=\"center\">MLP with 1 hidden layer and 3, 5, and 7 hidden units respectively</a>\n",
    "</div>\n",
    "\n",
    "Each hidden layer consists of a number of units, connected to all outputs of the previous layer and acting as inputs for the next layer. The number of units in each hidden layer does not have to be equal to the number of inputs or outputs of the network, however it might affect the properties of the network. "
   ]
  },
  {
   "cell_type": "markdown",
   "id": "c5b1290e",
   "metadata": {
    "slideshow": {
     "slide_type": "subslide"
    }
   },
   "source": [
    "##### Weights, summing and bias\n",
    "\n",
    "In each layer of a MLP, the outputs of previous layers are used as input. Similar to the SLP, these inputs are weighted and summed at each unit and biases are added. The process is in general similar to the SLP case, however a larger number of weights and biases needs to be deterined as a result of the larger number of layers and units."
   ]
  },
  {
   "cell_type": "markdown",
   "id": "c882318f",
   "metadata": {
    "slideshow": {
     "slide_type": "subslide"
    }
   },
   "source": [
    "##### Activation\n",
    "\n",
    "Similar to the SLP, activation is performed after weighting and summing at each layer. Some activation functions used in MLPs are given below:\n",
    "\n",
    "|     Activation function    |                Expression                    |                                 Graph                             |\n",
    "|----------------------------|----------------------------------------------|------------------------------------------------------------------|\n",
    "|Rectified Linear Unit (ReLU)|$$ f\\left( x \\right) = \\max\\left(x,0\\right) $$|<img src=\"./Figures/ReLU.png\" width=\"300\" align=\"center\"> |\n",
    "|Softsign                    |$$ f\\left( x \\right) = \\frac{x}{\\lvert x \\rvert+1} $$|<img src=\"./Figures/softsign.png\" width=\"300\" align=\"center\"> |\n",
    "|Softplus                    |$$ f\\left( x \\right) = \\log{\\left(e^{x}+1 \\right)} $$|<img src=\"./Figures/softplus.png\" width=\"300\" align=\"center\"> |\n",
    "\n",
    "In modern neural networks, the most popular of these is probably the Rectified Linear Unit (ReLU)."
   ]
  },
  {
   "cell_type": "markdown",
   "id": "84685d3a",
   "metadata": {
    "slideshow": {
     "slide_type": "subslide"
    }
   },
   "source": [
    "#### Output layer\n",
    "\n",
    "In the output layer, weighting and summing is performed similar to hidden layers.\n",
    "\n",
    "##### Activation\n",
    "\n",
    "The activation function used for output layers, might be slightly different than hidden layers. For example:\n",
    "\n",
    "+ **For regression problems**, a linear activation might be used.\n",
    "+ **For classification problems**, a softmax activation function can be used to convert each output to a probability of the input belonging to a certain class."
   ]
  },
  {
   "cell_type": "markdown",
   "id": "319f4381",
   "metadata": {
    "slideshow": {
     "slide_type": "slide"
    }
   },
   "source": [
    "### Mathematical expression\n",
    "\n",
    "In what follows, we will use superscritps in brackets to denote elements of the $i$th layer of a network, where $i$ assumes a value of 0 for the input layer, 1 for the first hidden layer etc. For instance:\n",
    "\n",
    "- $f^{\\left(2\\right)}$ denotes the activation function of the second hidden layer\n",
    "- $\\mathbf{W}^{\\left( 1 \\right)}$ denotes the matrix of weights of the first hidden layer\n",
    "\n",
    "Using this notation, the output of the first hidden layer of a MLP will be:\n",
    "\n",
    "$$\\left(\\mathbf{y}^{\\left( 1 \\right)}\\right)^T = f^{\\left(1 \\right)}\\left( \\mathbf{x}^T \\mathbf{W}^{\\left( 1 \\right)} + \\left(\\mathbf{b}^{\\left( 1 \\right)}\\right)^T \\right)$$\n",
    "\n",
    "This is subsequently used as input for the second layer, yielding the expression:\n",
    "\n",
    "$$ \\left(\\mathbf{y}^{\\left( 2 \\right)}\\right)^T = f^{\\left(2 \\right)}\\left( \\left(\\mathbf{y}^{\\left( 1 \\right)}\\right)^T \\mathbf{W}^{\\left( 2 \\right)} + \\left(\\mathbf{b}^{\\left( 2 \\right)}\\right)^T \\right) = f^{\\left(2 \\right)}\\left( \\left( f^{\\left(1 \\right)}\\left( \\mathbf{x}^T \\mathbf{W}^{\\left( 1 \\right)} + \\left(\\mathbf{b}^{\\left( 1 \\right)}\\right)^T \\right) \\right)^T \\mathbf{W}^{\\left( 2 \\right)} + \\left(\\mathbf{b}^{\\left( 2 \\right)}\\right)^T \\right)$$\n",
    "\n",
    "The process is then repeated for all layers of the network."
   ]
  },
  {
   "cell_type": "markdown",
   "id": "69d3eb37",
   "metadata": {
    "slideshow": {
     "slide_type": "slide"
    }
   },
   "source": [
    "## Training"
   ]
  },
  {
   "cell_type": "markdown",
   "id": "67719fcd",
   "metadata": {
    "slideshow": {
     "slide_type": "subslide"
    }
   },
   "source": [
    "### Loss function\n",
    "\n",
    "As also mentioned in last week's lecture, different loss functions can be used to measure the discrepancy between predicted and actual labels. For classification problems, a commonly used loss, also employed in last week's computer lab, is cross entropy. For a binary classificartion problem, and a set of training labels $y^*_i$ and actual labels $y_i$, cross entropy can be defined as:\n",
    "\n",
    "$$E = -\\dfrac{1}{m} \\Sigma_{i=1}^m \\left[ y^*_i \\log{y_i} + \\left(1-y^*_i\\right) \\log{\\left( 1-y_i \\right) } \\right]$$\n",
    "\n",
    "where $m$ is the number of training data points. The definition can be extended to higher numebers of classes by considering a probability for each class, as mentioned above, and summing over the number of classes. "
   ]
  },
  {
   "cell_type": "markdown",
   "id": "adc09152",
   "metadata": {
    "slideshow": {
     "slide_type": "subslide"
    }
   },
   "source": [
    "### Back propagation\n",
    "\n",
    "Weights of MLPs can be updated using extensions of the methods described in the previous lecture for SLPs. An necessary step for most methods, is the computation of the partial derivatives of the loss function with respect to the weights and biases, which can be computed using the chain rule, for instance:\n",
    "\n",
    "$$\\dfrac{\\partial E}{\\partial w_{ij}} = \\Sigma_{k=1}^m\\dfrac{\\partial E}{\\partial y_{k}} \\dfrac{\\partial y_k}{\\partial w_{ij}}$$\n",
    "\n",
    "where $m$ is the number of training data points.\n",
    "\n",
    "Since MLPs involve more layers than SLPs the computation of $\\dfrac{\\partial y_k}{\\partial w_{ij}}$ is more involved, requiring the use of the chain rule multiple times. The process of using the chain rule recursively, is termed **back propagation** as oposed to **forward propagation**, which is the process of pasing inputs through the MLP."
   ]
  },
  {
   "cell_type": "markdown",
   "id": "6b2cef7e",
   "metadata": {
    "slideshow": {
     "slide_type": "slide"
    }
   },
   "source": [
    "## Example\n",
    "\n",
    "To illustrate the differences between SLPs and SLPc and demonstrate how SLPs can be trained with `Keras`, lets consider a simple example with points in the two dimensional plane. The coordinates and labels ofthe points are stored in the accompanying `plane_points_nal.txt` and `plane_points_nl_labels.txt`. The labels have been assigned based on whether the points are above or below the curve defined by:\n",
    "\n",
    "$$y = 8x^3-3x$$\n",
    "\n",
    "Thus, the decision boundary essentially corresponds to that curve.\n",
    "\n",
    "The points can be loaded and visualised along with the curve as:"
   ]
  },
  {
   "cell_type": "code",
   "execution_count": null,
   "id": "78120b06",
   "metadata": {
    "slideshow": {
     "slide_type": "subslide"
    }
   },
   "outputs": [],
   "source": [
    "#import numpy and pyplot\n",
    "import numpy as np\n",
    "from matplotlib import pyplot as plt\n",
    "\n",
    "#load points and labels from files\n",
    "x=np.loadtxt('plane_points_nl.txt')\n",
    "labels = np.loadtxt('plane_points_nl_labels.txt')\n",
    "\n",
    "#use np.argwhere to find the indices of the points belonging to each class\n",
    "class0 = np.argwhere(labels==1)\n",
    "class1 = np.argwhere(labels==0)\n",
    "\n",
    "#Generate coordinates of points along the decision boundary\n",
    "xDB = np.linspace(-0.73,0.73,1000)\n",
    "yDB = 8*xDB**3-3*xDB\n",
    "\n",
    "#plot classes using different colors\n",
    "plt.plot(x[class0,0],x[class0,1],'.b')\n",
    "plt.plot(x[class1,0],x[class1,1],'.r')\n",
    "\n",
    "#plot decision boundary\n",
    "plt.plot(xDB,yDB,'--k',label='Decision boundary')\n",
    "\n",
    "plt.legend()\n",
    "plt.show()"
   ]
  },
  {
   "cell_type": "markdown",
   "id": "6bbbffae",
   "metadata": {
    "slideshow": {
     "slide_type": "subslide"
    }
   },
   "source": [
    "In contrast to the cases considered so far, the points are clearly not linearly separable!"
   ]
  },
  {
   "cell_type": "markdown",
   "id": "8898ea4f",
   "metadata": {
    "slideshow": {
     "slide_type": "subslide"
    }
   },
   "source": [
    "### Classification with a SLP\n",
    "\n",
    "As a first test, we can try to train a SLP for this problem. However, since the data is not linearly separable, we would expect it to perform poorly:"
   ]
  },
  {
   "cell_type": "code",
   "execution_count": null,
   "id": "17bf6335",
   "metadata": {
    "slideshow": {
     "slide_type": "subslide"
    }
   },
   "outputs": [],
   "source": [
    "import tensorflow as tf\n",
    "\n",
    "#create a sequential model for the slp\n",
    "modelSLP = tf.keras.Sequential()\n",
    "\n",
    "#add a dense layer with 1 output and a sigmoid activation function\n",
    "modelSLP.add(tf.keras.layers.Dense(1,\n",
    "                                   activation = 'sigmoid'))\n",
    "\n",
    "#compile model\n",
    "modelSLP.compile(optimizer='adam',\n",
    "              loss=tf.keras.losses.BinaryCrossentropy(),\n",
    "              metrics='accuracy')\n",
    "\n",
    "#train model for 100 epochs using the data from the points \n",
    "modelSLP.fit(x, labels, epochs=200)"
   ]
  },
  {
   "cell_type": "markdown",
   "id": "fdd2e9bd",
   "metadata": {
    "slideshow": {
     "slide_type": "subslide"
    }
   },
   "source": [
    "Results can be visualised in terms of the decision boundary as:"
   ]
  },
  {
   "cell_type": "code",
   "execution_count": null,
   "id": "75ecce93",
   "metadata": {
    "slideshow": {
     "slide_type": "subslide"
    }
   },
   "outputs": [],
   "source": [
    "#plot decision boundary using provided function\n",
    "fig, ax = plotDecisionBoundary(modelSLP)\n",
    "\n",
    "#plot data points\n",
    "ax.plot(x[class0,0],x[class0,1],'.b')\n",
    "ax.plot(x[class1,0],x[class1,1],'.r')\n",
    "\n",
    "#plot actual decision boundary\n",
    "ax.plot(xDB,yDB,'--k',label='Decision boundary')\n",
    "\n",
    "ax.legend()"
   ]
  },
  {
   "cell_type": "markdown",
   "id": "7cc8eab9",
   "metadata": {
    "slideshow": {
     "slide_type": "subslide"
    }
   },
   "source": [
    "We observe that:\n",
    "+ The SLP performs poorly in terms of the achieved accuracy, regardless of the number of training epochs used\n",
    "+ The decision boundary for the SLP is a linear approximation of the actual decision boundary, which however is not enough to provide accurate results"
   ]
  },
  {
   "cell_type": "markdown",
   "id": "a24a865c",
   "metadata": {
    "slideshow": {
     "slide_type": "subslide"
    }
   },
   "source": [
    "### Training a MLP\n",
    "\n",
    "Next, let's try to train a MLP to improve the above results. Our network will consist of:\n",
    "\n",
    "+ One hidden layer with 8 hidden units and ReLU activation\n",
    "+ One output layer with 2 outputs and softmax activartion to convert outputs to probabilities\n",
    "\n",
    "Using `keras`, this can be accomplished in a very similar way to what was shown so far for the SLP with multiple outputs:"
   ]
  },
  {
   "cell_type": "code",
   "execution_count": null,
   "id": "2320f44d",
   "metadata": {
    "slideshow": {
     "slide_type": "subslide"
    }
   },
   "outputs": [],
   "source": [
    "import tensorflow as tf\n",
    "\n",
    "#create a sequential model for the mlp\n",
    "modelMLP = tf.keras.Sequential()\n",
    "\n",
    "#add a dense layer with 8 outputs and a ReLU activation\n",
    "modelMLP.add(tf.keras.layers.Dense(8,\n",
    "                                   activation = 'ReLU'))\n",
    "\n",
    "#add a dense layer with 2 outputs and softmax activation to convert outputs to probabilities\n",
    "modelMLP.add(tf.keras.layers.Dense(2,\n",
    "                                   activation = 'softmax'))\n",
    "\n",
    "#compile and train model for 100 epochs  \n",
    "modelMLP.compile(optimizer='adam',\n",
    "                 loss=tf.keras.losses.SparseCategoricalCrossentropy(),\n",
    "                 metrics='accuracy')\n",
    "\n",
    "modelMLP.fit(x, labels, epochs=200)"
   ]
  },
  {
   "cell_type": "markdown",
   "id": "e9bbeeed",
   "metadata": {
    "slideshow": {
     "slide_type": "subslide"
    }
   },
   "source": [
    "### Visualising the decision boundary\n",
    "\n",
    "Results can be visualised in terms of the decision boundary as in the SLP case:"
   ]
  },
  {
   "cell_type": "code",
   "execution_count": null,
   "id": "3cfaf6ed",
   "metadata": {
    "slideshow": {
     "slide_type": "subslide"
    }
   },
   "outputs": [],
   "source": [
    "#plot decision boundary using provided function\n",
    "fig, ax = plotDecisionBoundary(modelMLP)\n",
    "\n",
    "#plot data points\n",
    "ax.plot(x[class0,0],x[class0,1],'.b')\n",
    "ax.plot(x[class1,0],x[class1,1],'.r')\n",
    "\n",
    "#plot actual decision boundary\n",
    "ax.plot(xDB,yDB,'--k',label='Decision boundary')\n",
    "\n",
    "ax.legend()"
   ]
  },
  {
   "cell_type": "markdown",
   "id": "c8401edf",
   "metadata": {
    "slideshow": {
     "slide_type": "slide"
    }
   },
   "source": [
    "## Training\n",
    "\n",
    "Based on the above it is clear that if a large enough number of hidden units and/or hidden layers are used, nonlinear decision boundaries can be approximated. In fact, it can be shown that MLPs with a single hidden layer can approximate almost any function with an arbitrary degree of accuracy, provided that enough hidden units are used. More generally, the ability of the model to represent different functions is termed **capacity**. For MLPs, the model's capacity is affected by parameters such as the number of hidden units and hidden layers, learning rate and number of training epochs.\n",
    "\n",
    "While the above is very important for the general applicability of neural networks, it does not provide any guidance on how to select the number of hidden units and/or hidden layers for a given problem. In practice, these parameters are determined through experimentation and/or experience. The next subsections introduce some important concepts that are important for the process."
   ]
  },
  {
   "cell_type": "markdown",
   "id": "87e55b12",
   "metadata": {
    "slideshow": {
     "slide_type": "subslide"
    }
   },
   "source": [
    "### Generalisation\n",
    "\n",
    "So far we have only tested the error introduced by SLPs/MLPs when reproducing the training data, i.e. the **training error**. However, the main goal of machine learning algorithms is to make accurate predictions for **previously unseen data**, a property called **generalisation**. The extent to which this goal is achieved can be quantified through the so called **generalisation error** or **test error**, i.e. the expected error for a new, unseen input. A simple way of estimating this error is by computing the error for a new dataset, independent from the training set, termed the **test set**."
   ]
  },
  {
   "cell_type": "markdown",
   "id": "5c37d216",
   "metadata": {
    "slideshow": {
     "slide_type": "subslide"
    }
   },
   "source": [
    "### Underfitting/Overfitting\n",
    "\n",
    "Considering the above, the capacity of machine learning models should be chosen to satisy two requirements:\n",
    "\n",
    "1. **Small training error:** a high enough capacity should be used to represent the function/decision boundary for a given problem. If the capacity of the model is too low, it will lead to large values for both the training and test error, a phenomenon termed **underfitting**. As an example of underfitting, consider the case of the SLP used for the previous example. In that case, the capacity of the model was too low for the given problem, leading to poor results.\n",
    "2. **Small discrepancy between the training and test error:** the capacity of the model should not be too high, otherwise the model might 'memorise' every single data point in the data set, rather than learning the required function or decision boundary. This leads to a phenomenon called **overfitting**, where low training errors do not translate to low test/generalisation error. As will be shown in the next example, overfitting can lead to particularly poor results in the presence of noise.\n",
    "\n",
    "The typical relationship between model capacity and the different types of error is illustrated in the following figure: \n",
    "<br />\n",
    "\n",
    "<div>\n",
    "<img src=\"./Figures/overfitting.png\" width=\"600\" align=\"center\">\n",
    "    <br/><a align=\"center\">Relationship between capacity and error. Figure inspired from (Goodfellow et al., 2016).</a>\n",
    "</div>\n",
    "\n",
    "A good training strategy, should, in general, aim at determining the optimal capacity for the model, i.e. the one that yields the smallest possible training error, without deteriorating the test error."
   ]
  },
  {
   "cell_type": "markdown",
   "id": "73abcf4d",
   "metadata": {
    "slideshow": {
     "slide_type": "subslide"
    }
   },
   "source": [
    "### Example\n",
    "\n",
    "To illustrate how overfitting can lead to poor generalisation, we will consider a set of points similar to the one used in the previous example, but with added noise, which might also be present in real data. The data is included in the `plane_points_noise1.txt` and `plane_points_noise_labels1.txt` files and can be visualised as follows:"
   ]
  },
  {
   "cell_type": "code",
   "execution_count": null,
   "id": "f3f73308",
   "metadata": {
    "slideshow": {
     "slide_type": "subslide"
    }
   },
   "outputs": [],
   "source": [
    "xOF=np.loadtxt('plane_points_noise.txt')\n",
    "labelsOF = np.loadtxt('plane_points_noise_labels.txt')\n",
    "\n",
    "class0OF = np.argwhere(labelsOF==1)\n",
    "class1OF = np.argwhere(labelsOF==0)\n",
    "\n",
    "plt.plot(xOF[class0OF,0],xOF[class0OF,1],'.b')\n",
    "plt.plot(xOF[class1OF,0],xOF[class1OF,1],'.r')\n",
    "plt.plot(xDB,yDB,'--k',label='Decision boundary')\n",
    "\n",
    "plt.legend()\n",
    "plt.show()"
   ]
  },
  {
   "cell_type": "markdown",
   "id": "3072084a",
   "metadata": {
    "slideshow": {
     "slide_type": "subslide"
    }
   },
   "source": [
    "As a first step, we will split the data into a training and test set. This can be done automatically, using the `train_test_split` function from the `sklearn` package. The function requires, apart from the initial datapoints and labels, the percentage of data to be used for the training set. As output, it returns two different sets of datapoints and labels that can be used for training and testing:"
   ]
  },
  {
   "cell_type": "code",
   "execution_count": null,
   "id": "762de181",
   "metadata": {
    "slideshow": {
     "slide_type": "subslide"
    }
   },
   "outputs": [],
   "source": [
    "from sklearn.model_selection import train_test_split\n",
    "\n",
    "xTrain, xTest, labelsTrain, labelsTest = train_test_split(xOF,labelsOF, train_size=0.5)"
   ]
  },
  {
   "cell_type": "markdown",
   "id": "9c628e84",
   "metadata": {
    "slideshow": {
     "slide_type": "subslide"
    }
   },
   "source": [
    "Next, we will employ a model with very high capacity to reduce the training error as much as possible. To this end, we will create a model with 4 hidden layers consisting of 100 hidden units each and we will train for a very high number of epochs (1000):"
   ]
  },
  {
   "cell_type": "code",
   "execution_count": null,
   "id": "73a1a9f0",
   "metadata": {
    "slideshow": {
     "slide_type": "subslide"
    }
   },
   "outputs": [],
   "source": [
    "import tensorflow as tf\n",
    "\n",
    "modelOF = tf.keras.Sequential()\n",
    "\n",
    "\n",
    "modelOF.add(tf.keras.layers.Dense(100,\n",
    "                                  activation = 'relu'))\n",
    "\n",
    "modelOF.add(tf.keras.layers.Dense(100,\n",
    "                                  activation = 'relu'))\n",
    "\n",
    "modelOF.add(tf.keras.layers.Dense(100,\n",
    "                                  activation = 'relu'))\n",
    "\n",
    "modelOF.add(tf.keras.layers.Dense(100,\n",
    "                                  activation = 'relu'))\n",
    "\n",
    "modelOF.add(tf.keras.layers.Dense(2,\n",
    "                                  activation = 'softmax'))\n",
    "\n",
    "modelOF.compile(optimizer='adam',\n",
    "              loss=tf.keras.losses.SparseCategoricalCrossentropy(),\n",
    "              metrics='accuracy')\n",
    "\n",
    "\n",
    "modelOF.fit(xTrain, \n",
    "            labelsTrain, \n",
    "            epochs=1000)"
   ]
  },
  {
   "cell_type": "markdown",
   "id": "005666b2",
   "metadata": {
    "slideshow": {
     "slide_type": "subslide"
    }
   },
   "source": [
    "As seen above, a very good training error can be obtained, with accuracy in the training set exceeding 90%. However, this accuracy does not necessarily translate to good generalisation. To illustrate this, we can evaluate the loss and accuracy over the test set, using the evaluate method of the model object:"
   ]
  },
  {
   "cell_type": "code",
   "execution_count": null,
   "id": "7f526a15",
   "metadata": {
    "slideshow": {
     "slide_type": "subslide"
    }
   },
   "outputs": [],
   "source": [
    "testLoss, testAcc = modelOF.evaluate(xTest,  labelsTest)"
   ]
  },
  {
   "cell_type": "markdown",
   "id": "ceeea67b",
   "metadata": {
    "slideshow": {
     "slide_type": "subslide"
    }
   },
   "source": [
    "As seen above, the test accuracy is significantly lower than the training error. Some further insight can be obtained by plotting the decision boundary for the model:"
   ]
  },
  {
   "cell_type": "code",
   "execution_count": null,
   "id": "b30ceaf7",
   "metadata": {
    "slideshow": {
     "slide_type": "subslide"
    }
   },
   "outputs": [],
   "source": [
    "fig, ax = plotDecisionBoundary(modelOF)\n",
    "\n",
    "class0Train = np.argwhere(labelsTrain==1)\n",
    "class1Train = np.argwhere(labelsTrain==0)\n",
    "\n",
    "ax.plot(xTrain[class0Train,0],xTrain[class0Train,1],'.b')\n",
    "ax.plot(xTrain[class1Train,0],xTrain[class1Train,1],'.r')\n",
    "ax.plot(xDB,yDB,'--k',label='Decision boundary')\n",
    "\n",
    "ax.legend()"
   ]
  },
  {
   "cell_type": "markdown",
   "id": "639b7757",
   "metadata": {
    "slideshow": {
     "slide_type": "subslide"
    }
   },
   "source": [
    "As seen above, the MLP has essentially memorised almost every single point in the training set, including the noise, rather than learning the decision boundary."
   ]
  },
  {
   "cell_type": "markdown",
   "id": "c28c7d4c",
   "metadata": {
    "slideshow": {
     "slide_type": "slide"
    }
   },
   "source": [
    "### Hyperparameter tuning\n",
    "\n",
    "In order to avoid overfitting, hyperparameters, such as the number of hidden layers, should be selected to minimise the generalisation error, rather than the training error. However, the test error cannot be directly used to guide the process since it might bias the model. To avoid this, a third data set is typically introduced, termed the **validation set**, based on which hyperparameters are selected.Then, hyperparameters can be determined either manually, or in an automated way, based on a process similar to the following:\n",
    "\n",
    "+ Divide available data into test, validation and training data sets.\n",
    "+ Define a set of possible values for all hyperparameters to be determined. For instance, possible values for the number of hidden units might be: $[10, 20, 50, 100, 200, 500, 1000]$.\n",
    "+ For each possible combination of parameters:\n",
    "    + Create and train a model.\n",
    "    + Evaluate the error of this model over the validation set.\n",
    "    + For the first model: save the model and resulting error as the optimal model\n",
    "    + For every subsequent model: if the error is smaller than the optimal model, replace the optimal with the current model.\n",
    "+ Once all potential combinations have been tested, evaluate the error of the optimal model over the test set."
   ]
  },
  {
   "cell_type": "markdown",
   "id": "e0f91e48",
   "metadata": {
    "slideshow": {
     "slide_type": "subslide"
    }
   },
   "source": [
    "### Example\n",
    "\n",
    "To illustrate the above process, consider the dataset from the previous example. First we further split the training set into training and validation sets:"
   ]
  },
  {
   "cell_type": "code",
   "execution_count": null,
   "id": "9f97abda",
   "metadata": {
    "slideshow": {
     "slide_type": "subslide"
    }
   },
   "outputs": [],
   "source": [
    "from sklearn.model_selection import train_test_split\n",
    "\n",
    "xTrain, xVal, labelsTrain, labelsVal = train_test_split(xTrain,labelsTrain, train_size=0.6)"
   ]
  },
  {
   "cell_type": "markdown",
   "id": "fcaaa01e",
   "metadata": {
    "slideshow": {
     "slide_type": "subslide"
    }
   },
   "source": [
    "Next, we specify the sets of possible values for the model hyperparameters. In this case, we will only modify the number of hidden units for all hidden layers:"
   ]
  },
  {
   "cell_type": "code",
   "execution_count": null,
   "id": "1f0ac958",
   "metadata": {
    "slideshow": {
     "slide_type": "subslide"
    }
   },
   "outputs": [],
   "source": [
    "hiddenUnits = [2,5,10,20,50,100]"
   ]
  },
  {
   "cell_type": "markdown",
   "id": "8a4d3dd4",
   "metadata": {
    "slideshow": {
     "slide_type": "subslide"
    }
   },
   "source": [
    "The sets of hidden units can be looped, with a model created and trained for each parameter value:"
   ]
  },
  {
   "cell_type": "code",
   "execution_count": null,
   "id": "82686f89",
   "metadata": {
    "slideshow": {
     "slide_type": "subslide"
    }
   },
   "outputs": [],
   "source": [
    "#loop list with possible numbers of hidden units\n",
    "for units in hiddenUnits:\n",
    "    #create model\n",
    "    model = tf.keras.Sequential()\n",
    "\n",
    "    #add 4 layers with different numbers of hidden units\n",
    "    model.add(tf.keras.layers.Dense(units,\n",
    "                                      activation = 'relu'))\n",
    "    model.add(tf.keras.layers.Dense(units,\n",
    "                                      activation = 'relu'))\n",
    "    model.add(tf.keras.layers.Dense(units,\n",
    "                                      activation = 'relu'))\n",
    "    model.add(tf.keras.layers.Dense(units,\n",
    "                                      activation = 'relu'))\n",
    "\n",
    "    #add final dense layer with softmax activation\n",
    "    model.add(tf.keras.layers.Dense(2,\n",
    "                                    activation = 'softmax'))\n",
    "\n",
    "    #compile and fit model for training set\n",
    "    model.compile(optimizer='adam',\n",
    "                  loss=tf.keras.losses.SparseCategoricalCrossentropy(),\n",
    "                  metrics='accuracy')\n",
    "\n",
    "    model.fit(xTrain, \n",
    "                labelsTrain, \n",
    "                epochs=1000)\n",
    "    \n",
    "    #evaluate model for validation set\n",
    "    lossVal, accVal = model.evaluate(xVal,  labelsVal)\n",
    "    \n",
    "    if units==hiddenUnits[0]:\n",
    "        #if this is the first model tested, save model, error, and accuracy\n",
    "        modelOpt=model\n",
    "        lossOpt = lossVal\n",
    "        accOpt = accVal\n",
    "        unitsOpt = units\n",
    "    else:\n",
    "        #for every subsequent model check accuracy, if higher than current optimal model then replace optimal\n",
    "        if accVal>accOpt:\n",
    "            modelOpt=model\n",
    "            lossOpt = lossVal\n",
    "            accOpt = accVal\n",
    "            unitsOpt = units\n",
    "\n",
    "#print details of optimal model\n",
    "print('Best loss over test set: ', lossOpt)\n",
    "print('Best accuracy over validation set: ', accOpt)\n",
    "print('Number of units selected: ', unitsOpt)"
   ]
  },
  {
   "cell_type": "markdown",
   "id": "8c7ca84e",
   "metadata": {
    "slideshow": {
     "slide_type": "subslide"
    }
   },
   "source": [
    "The selected number of hidden layers is much smaller than the original model! The performance of the optimal model over the test set can be evaluated next:"
   ]
  },
  {
   "cell_type": "code",
   "execution_count": null,
   "id": "546000e6",
   "metadata": {
    "slideshow": {
     "slide_type": "subslide"
    }
   },
   "outputs": [],
   "source": [
    "lossTest, accTest = modelOpt.evaluate(xTest,  labelsTest)"
   ]
  },
  {
   "cell_type": "markdown",
   "id": "b85b7d11",
   "metadata": {
    "slideshow": {
     "slide_type": "subslide"
    }
   },
   "source": [
    "The model achieves a smaller discrepancy between training and test error.\n",
    "\n",
    "Also, the decision boundary for the new model can be plotted as:"
   ]
  },
  {
   "cell_type": "code",
   "execution_count": null,
   "id": "39ef0938",
   "metadata": {
    "slideshow": {
     "slide_type": "subslide"
    }
   },
   "outputs": [],
   "source": [
    "fig, ax = plotDecisionBoundary(modelOpt)\n",
    "\n",
    "#find indices of \n",
    "class0Train = np.argwhere(labelsTrain==1)\n",
    "class1Train = np.argwhere(labelsTrain==0)\n",
    "\n",
    "#plot data points, line used in first example, and line obtained after training\n",
    "ax.plot(xTrain[class0Train,0],xTrain[class0Train,1],'.b')\n",
    "ax.plot(xTrain[class1Train,0],xTrain[class1Train,1],'.r')\n",
    "ax.plot(xDB,yDB,'--k',label='Decision boundary')\n",
    "\n",
    "ax.legend()"
   ]
  },
  {
   "cell_type": "markdown",
   "id": "b72d5655",
   "metadata": {
    "slideshow": {
     "slide_type": "subslide"
    }
   },
   "source": [
    "It can be clearly seen that, despite the noisy data, the optimal model leads to a much smoother decision boundary, closer to the initial one."
   ]
  },
  {
   "cell_type": "markdown",
   "id": "0bdeb560",
   "metadata": {
    "slideshow": {
     "slide_type": "slide"
    }
   },
   "source": [
    "### Regularisation/Early stopping\n",
    "\n",
    "A variety of additional strategies can be employed to improve the generalisation error of MLPs and are collectively refered to as **regularisation** methods. In general, these methods introduce modifications, for instance in the loss function of training process, to improve the test error without necessarily altering the capacity of the model.\n",
    "\n",
    "While several such strategies are available, we will only describe one of the most commonly used for neural networks, named **early stopping**. The strategy is based on the observation that, during a typical training process, the training error will constantly decrease, while the validation error will follow a U shape, initially decreasing and increasing again after a certain point, as illustrated in the following figure:\n",
    "\n",
    "<div>\n",
    "<img src=\"./Figures/training_validation_error.png\" width=\"600\" align=\"center\">\n",
    "    <br/><a align=\"center\">Training and validation error during training. Figure taken from (Goodfellow et al., 2016).</a>\n",
    "</div>\n",
    "\n",
    "Based on that, the process should ideally be stopped at the point where the minimum validation error is reached. This can be accomplished by monitoring the validation error during training and terminating the process once an increase is observed for a few consecutive epochs. Then the weights achieved at the minimum value can be restored leading to an optimal model."
   ]
  },
  {
   "cell_type": "markdown",
   "id": "4ff582c1",
   "metadata": {
    "slideshow": {
     "slide_type": "subslide"
    }
   },
   "source": [
    "### Example\n",
    "\n",
    "To illustrate the effectiveness of early stopping, as well as how it can be implemented with `keras`, we will consider the previous example, with the same training, validation, testing set splits. The first modification required, is the definition of an early stopping callback. The following options are selected:\n",
    "\n",
    "+ The `monitor` parameter is set to `val_loss` to use the validation error as an early stopping criterion.\n",
    "+ The `patience` parameter is given a value of 10, meaning that if the error in the validation set is not improved after 10 consecutive epochs, training will stop.\n",
    "+ The `restore_best_weights` parameter is set to `True` to use the best weights achieved during training, rather than the last ones obtained"
   ]
  },
  {
   "cell_type": "code",
   "execution_count": null,
   "id": "ee2dfe46",
   "metadata": {
    "slideshow": {
     "slide_type": "subslide"
    }
   },
   "outputs": [],
   "source": [
    "import tensorflow as tf\n",
    "\n",
    "#define Early stopping callback\n",
    "callback = tf.keras.callbacks.EarlyStopping(monitor = 'val_loss', patience = 10, restore_best_weights=True)"
   ]
  },
  {
   "cell_type": "markdown",
   "id": "299183c8",
   "metadata": {
    "slideshow": {
     "slide_type": "subslide"
    }
   },
   "source": [
    "In order to monitor the training and validation error, an additional class is imported from the [`livelossplot`](https://p.migdal.pl/livelossplot/#installation) module. The module does not come preinstalled with Anaconda, therefore it has to be installed by running the following command in an Anaconda (Windows) or regular (Mac) command line:\n",
    "\n",
    "```\n",
    "pip install livelossplot\n",
    "```\n",
    "\n",
    "Then, the required class, named `PlotLossesKeras` can be imported as:"
   ]
  },
  {
   "cell_type": "code",
   "execution_count": null,
   "id": "df0d7031",
   "metadata": {
    "slideshow": {
     "slide_type": "subslide"
    }
   },
   "outputs": [],
   "source": [
    "from livelossplot import PlotLossesKeras"
   ]
  },
  {
   "cell_type": "markdown",
   "id": "4ea0cfcc",
   "metadata": {
    "slideshow": {
     "slide_type": "subslide"
    }
   },
   "source": [
    "The model can be created and compiled in the same way as the one used to demonstrate overfitting:"
   ]
  },
  {
   "cell_type": "code",
   "execution_count": null,
   "id": "ddecf138",
   "metadata": {
    "slideshow": {
     "slide_type": "subslide"
    }
   },
   "outputs": [],
   "source": [
    "modelES = tf.keras.Sequential()\n",
    "\n",
    "\n",
    "modelES.add(tf.keras.layers.Dense(100,\n",
    "                                  activation = 'relu'))\n",
    "\n",
    "modelES.add(tf.keras.layers.Dense(100,\n",
    "                                  activation = 'relu'))\n",
    "\n",
    "modelES.add(tf.keras.layers.Dense(1000,\n",
    "                                  activation = 'relu'))\n",
    "\n",
    "modelES.add(tf.keras.layers.Dense(100,\n",
    "                                  activation = 'relu'))\n",
    "\n",
    "modelES.add(tf.keras.layers.Dense(2,\n",
    "                                  activation = 'softmax'))\n",
    "\n",
    "modelES.compile(optimizer='adam',\n",
    "              loss=tf.keras.losses.SparseCategoricalCrossentropy(),\n",
    "              metrics='accuracy')"
   ]
  },
  {
   "cell_type": "markdown",
   "id": "4a8176e0",
   "metadata": {
    "slideshow": {
     "slide_type": "subslide"
    }
   },
   "source": [
    "Finally, the model can be fitted using the `fit` method. Notice that the following additional arguments are passed:\n",
    "\n",
    "+ The optional argument `validation_data` is used to provide the validation data and labels.\n",
    "+ The `callbacks` argument is used to pass the imported `PlotLossesKeras` object and the previously defined `callback` object."
   ]
  },
  {
   "cell_type": "code",
   "execution_count": null,
   "id": "aee74a61",
   "metadata": {
    "slideshow": {
     "slide_type": "subslide"
    }
   },
   "outputs": [],
   "source": [
    "modelES.fit(xTrain, \n",
    "            labelsTrain,\n",
    "            validation_data=(xVal, labelsVal),\n",
    "            callbacks=[PlotLossesKeras(), callback], \n",
    "            epochs=1000)"
   ]
  },
  {
   "cell_type": "markdown",
   "id": "99c7f664",
   "metadata": {
    "slideshow": {
     "slide_type": "subslide"
    }
   },
   "source": [
    "The `PlotLossesKeras` callback allows to monitor the training and validation errors in real time, while, through the use of early stopping, the difference between validation and training error can be decreased. Notice that this is achieved despite the fact that the capacity of the model used is probably to high for the current problem.\n",
    "\n",
    "The error and accuracy for the test set can be evaluated as:"
   ]
  },
  {
   "cell_type": "code",
   "execution_count": null,
   "id": "d1902b8a",
   "metadata": {
    "slideshow": {
     "slide_type": "subslide"
    }
   },
   "outputs": [],
   "source": [
    "lossTest, accTest = modelES.evaluate(xTest,  labelsTest)"
   ]
  },
  {
   "cell_type": "markdown",
   "id": "69c1414b",
   "metadata": {
    "slideshow": {
     "slide_type": "subslide"
    }
   },
   "source": [
    "The decision boundary for the new model can be visualised as:"
   ]
  },
  {
   "cell_type": "code",
   "execution_count": null,
   "id": "3edfe3cb",
   "metadata": {
    "slideshow": {
     "slide_type": "subslide"
    }
   },
   "outputs": [],
   "source": [
    "fig, ax = plotDecisionBoundary(modelES)\n",
    "\n",
    "ax.plot(xOF[class0OF,0],xOF[class0OF,1],'.b')\n",
    "ax.plot(xOF[class1OF,0],xOF[class1OF,1],'.r')\n",
    "ax.plot(xDB,yDB,'--k',label='Decision boundary')\n",
    "\n",
    "ax.legend()"
   ]
  },
  {
   "cell_type": "markdown",
   "id": "a5b9cdab",
   "metadata": {
    "slideshow": {
     "slide_type": "subslide"
    }
   },
   "source": [
    "Again a smoother decision boundary can be obtained despite the presence of noise. Again notice that this is possible despite the fact that the capacity of the model used is probably too high."
   ]
  },
  {
   "cell_type": "markdown",
   "id": "4e80f3a9",
   "metadata": {
    "slideshow": {
     "slide_type": "slide"
    }
   },
   "source": [
    "## Summary\n",
    "\n",
    "### Key points\n",
    "\n",
    "In this lecture:\n",
    "\n",
    "+ We presented in detail the structure and training process for MLPs.\n",
    "+ We discussed about training MLPs and potential problems such as overfitting.\n",
    "+ We demonstrated some strategies for training MLPs and avoiding overfitting\n",
    "\n",
    "The above should allow us to solve today's problem!"
   ]
  },
  {
   "cell_type": "markdown",
   "id": "98893132",
   "metadata": {
    "slideshow": {
     "slide_type": "subslide"
    }
   },
   "source": [
    "### Resources/Further reading\n",
    "\n",
    "+ [`keras` website](https://keras.io/)\n",
    "+ I. Goodfellow, Y. Bengio and A. Courville. *Deep learning*. MIT press, 2016 (library 006.31 GOO)\n",
    "+ D.W. Patterson. *Artificial Neural Networks: Theory and Applications*. Prentice Hall, 1996 (library 006.3 PAT)\n",
    "+ K. Mehrotra, C.K. Mohan, S. Ranka. *Elements of Artificial neural networks*, MIT Press, 1997 (library 001.535 MEH)"
   ]
  },
  {
   "cell_type": "markdown",
   "id": "5f7c8865",
   "metadata": {
    "slideshow": {
     "slide_type": "skip"
    }
   },
   "source": [
    "## Solving today's problem\n",
    "\n",
    "Today's problem is a classification problem with 27 inputs and 5 classes (grade 0-4). As a first step towards it, the data should be converted to `numpy` arrays and normalised as:"
   ]
  },
  {
   "cell_type": "code",
   "execution_count": null,
   "id": "c2ecaf24",
   "metadata": {
    "slideshow": {
     "slide_type": "skip"
    }
   },
   "outputs": [],
   "source": [
    "import numpy as np\n",
    "\n",
    "#convert data and labels (metal grades) to numpy arrays\n",
    "dataMetal = metalDf.iloc[:,:-1].to_numpy()\n",
    "labelsMetal = metalDf.iloc[:,-1].to_numpy()\n",
    "\n",
    "#normalise data using the maximum value of each column\n",
    "dataMetal = dataMetal/dataMetal.max(axis=0)"
   ]
  },
  {
   "cell_type": "markdown",
   "id": "4503e5ee",
   "metadata": {
    "slideshow": {
     "slide_type": "skip"
    }
   },
   "source": [
    "Next we can split the data into training and testing sets using a 80%-20% split and, subsequently, further split the training data into training and validation using a 80%-20% split:"
   ]
  },
  {
   "cell_type": "code",
   "execution_count": null,
   "id": "bca00349",
   "metadata": {
    "slideshow": {
     "slide_type": "skip"
    }
   },
   "outputs": [],
   "source": []
  },
  {
   "cell_type": "markdown",
   "id": "677916f8",
   "metadata": {
    "slideshow": {
     "slide_type": "skip"
    }
   },
   "source": [
    "A MLP can be created to classify the data and early stopping can be employed to avoid overfitting. The number of inputs and outputs for the network should be 27 and 5 respectively, while a single hidden layer can be used. Different numbers of hidden units, for instance 50, 100, 200 can be tested manually or automatically:"
   ]
  },
  {
   "cell_type": "code",
   "execution_count": null,
   "id": "bd790cb6",
   "metadata": {
    "slideshow": {
     "slide_type": "skip"
    }
   },
   "outputs": [],
   "source": []
  },
  {
   "cell_type": "markdown",
   "id": "6fa603d1",
   "metadata": {
    "slideshow": {
     "slide_type": "skip"
    }
   },
   "source": [
    "The model error and accuracy should be evaluated for the test set: "
   ]
  },
  {
   "cell_type": "code",
   "execution_count": null,
   "id": "1ce39758",
   "metadata": {
    "slideshow": {
     "slide_type": "skip"
    }
   },
   "outputs": [],
   "source": []
  },
  {
   "cell_type": "markdown",
   "id": "fd2811ec",
   "metadata": {
    "slideshow": {
     "slide_type": "skip"
    }
   },
   "source": [
    "Finally, the labels of the test set can be predicted and visualised using a confusion matrix:"
   ]
  },
  {
   "cell_type": "code",
   "execution_count": null,
   "id": "17d40f26",
   "metadata": {
    "slideshow": {
     "slide_type": "skip"
    }
   },
   "outputs": [],
   "source": []
  },
  {
   "cell_type": "markdown",
   "id": "4cc503a5",
   "metadata": {
    "slideshow": {
     "slide_type": "skip"
    }
   },
   "source": [
    "## Additional practice\n",
    "\n",
    "For some additional practice, in the cells below, the full iris data set is loaded and normalised. "
   ]
  },
  {
   "cell_type": "code",
   "execution_count": null,
   "id": "2da87982",
   "metadata": {
    "slideshow": {
     "slide_type": "skip"
    }
   },
   "outputs": [],
   "source": [
    "import pandas as pd #import pandas module\n",
    "\n",
    "#pd.set_option('display.max_rows', None) #uncomment this line to view full dataset\n",
    "\n",
    "irisDf = pd.read_csv(\"iris_full.csv\") #read the file containing the data\n",
    "\n",
    "irisDf #visualise data"
   ]
  },
  {
   "cell_type": "code",
   "execution_count": null,
   "id": "1b0dbdc6",
   "metadata": {
    "slideshow": {
     "slide_type": "skip"
    }
   },
   "outputs": [],
   "source": [
    "irisData=irisDf[['sepal length','sepal width','petal length','petal width']].to_numpy()\n",
    "irisData = irisData/irisData.max(axis=0)\n",
    "\n",
    "irisLabels = np.zeros(150)\n",
    "irisLabels[50:100]=1\n",
    "irisLabels[100:]=2"
   ]
  },
  {
   "cell_type": "markdown",
   "id": "ef3945a5",
   "metadata": {
    "slideshow": {
     "slide_type": "skip"
    }
   },
   "source": [
    "Similar to what was shown above, the dataset can be split into training, validation and testing parts and a MLP can be trained to classify the data:"
   ]
  },
  {
   "cell_type": "code",
   "execution_count": null,
   "id": "6fcafe21",
   "metadata": {
    "slideshow": {
     "slide_type": "skip"
    }
   },
   "outputs": [],
   "source": []
  }
 ],
 "metadata": {
  "kernelspec": {
   "display_name": "Python 3",
   "language": "python",
   "name": "python3"
  },
  "language_info": {
   "codemirror_mode": {
    "name": "ipython",
    "version": 3
   },
   "file_extension": ".py",
   "mimetype": "text/x-python",
   "name": "python",
   "nbconvert_exporter": "python",
   "pygments_lexer": "ipython3",
   "version": "3.10.4"
  }
 },
 "nbformat": 4,
 "nbformat_minor": 5
}
